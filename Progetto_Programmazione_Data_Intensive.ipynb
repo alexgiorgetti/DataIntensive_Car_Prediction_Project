{
  "cells": [
    {
      "cell_type": "markdown",
      "metadata": {
        "colab_type": "text",
        "id": "view-in-github"
      },
      "source": [
        "<a href=\"https://colab.research.google.com/github/ye1047/DataIntensive_Car_Prediction_Project/blob/main/Progetto_Programmazione_Data_Intensive.ipynb\" target=\"_parent\"><img src=\"https://colab.research.google.com/assets/colab-badge.svg\" alt=\"Open In Colab\"/></a>"
      ]
    },
    {
      "cell_type": "markdown",
      "metadata": {
        "id": "Vo53M3LWt5Wu"
      },
      "source": [
        "# Analisi per la predizione del prezzo di un auto usata\n",
        "\n",
        "**Programmazione di Applicazioni Data Intensive**  \n",
        "Laurea in Ingegneria e Scienze Informatiche  \n",
        "DISI - Università di Bologna, Cesena\n",
        "\n",
        "Ciandrini Davide e Giorgetti Alex  \n",
        "`davide.ciandrini@studio.unibo.it`  \n",
        "`alex.giorgetti@studio.unibo.it`"
      ]
    },
    {
      "cell_type": "markdown",
      "metadata": {
        "id": "jCloUxnUvlTy"
      },
      "source": [
        "# Parte 1 - Descrizione del problema e comprensione dei dati  \n",
        "Come obiettivo ci siamo posti quello di realizzare un modello che predica il prezzo di auto usate.  \n",
        "Abbiamo deciso di utilizzare un dataset presente su Kaggle al seguente [indirizzo](https://www.kaggle.com/nehalbirla/vehicle-dataset-from-cardekho).  \n",
        "Questo dataset è stato ricavato dal sito web cardekho sulla base di informazioni del 2020.\n"
      ]
    },
    {
      "cell_type": "markdown",
      "metadata": {
        "id": "CDRatCVqxgvI"
      },
      "source": [
        "### Caricamento librerie"
      ]
    },
    {
      "cell_type": "markdown",
      "metadata": {
        "id": "Hhq1li8Aamt2"
      },
      "source": [
        "* Andiamo a caricare tutte le librerie necessarie per lo svolgimento del progetto"
      ]
    },
    {
      "cell_type": "code",
      "execution_count": null,
      "metadata": {
        "id": "N_R3Iv8xsgGQ"
      },
      "outputs": [],
      "source": [
        "%matplotlib inline\n",
        "import os.path\n",
        "import numpy as np\n",
        "import pandas as pd\n",
        "import matplotlib.pyplot as plt\n",
        "import plotly.graph_objects as go\n",
        "from plotly.subplots import make_subplots\n",
        "import seaborn as sb"
      ]
    },
    {
      "cell_type": "markdown",
      "metadata": {
        "id": "qV1CIhYUKrdc"
      },
      "source": [
        "* Questo ci permette di nascondere tutti i warning presenti durante l'esecuzione del codice."
      ]
    },
    {
      "cell_type": "code",
      "execution_count": null,
      "metadata": {
        "id": "daU1ZV5H8D-b"
      },
      "outputs": [],
      "source": [
        "import warnings\n",
        "from sklearn.exceptions import ConvergenceWarning\n",
        "warnings.filterwarnings(\"ignore\", category=ConvergenceWarning)"
      ]
    },
    {
      "cell_type": "markdown",
      "metadata": {
        "id": "qbGund8zx9FO"
      },
      "source": [
        "### Caricamento dei dati"
      ]
    },
    {
      "cell_type": "code",
      "execution_count": null,
      "metadata": {
        "id": "vUKhN3D4qATz"
      },
      "outputs": [],
      "source": [
        "file_csv_url = \"https://raw.githubusercontent.com/ye1047/DataIntensive_Car_Prediction_Project/main/dataset/cars.csv\"\n",
        "file_name    = \"cars.csv\"\n",
        "\n",
        "if not os.path.exists(file_name):\n",
        "    from urllib.request import urlretrieve\n",
        "    urlretrieve(file_csv_url, file_name)"
      ]
    },
    {
      "cell_type": "code",
      "execution_count": null,
      "metadata": {
        "id": "djNDNjcLsVv4"
      },
      "outputs": [],
      "source": [
        "data = pd.read_csv(file_name, sep = \",\")"
      ]
    },
    {
      "cell_type": "code",
      "execution_count": null,
      "metadata": {
        "colab": {
          "base_uri": "https://localhost:8080/",
          "height": 204
        },
        "id": "XV2xCgB1sZ49",
        "outputId": "789df626-3a14-4de5-862e-7e4265b41f8f"
      },
      "outputs": [
        {
          "data": {
            "text/html": [
              "<div>\n",
              "<style scoped>\n",
              "    .dataframe tbody tr th:only-of-type {\n",
              "        vertical-align: middle;\n",
              "    }\n",
              "\n",
              "    .dataframe tbody tr th {\n",
              "        vertical-align: top;\n",
              "    }\n",
              "\n",
              "    .dataframe thead th {\n",
              "        text-align: right;\n",
              "    }\n",
              "</style>\n",
              "<table border=\"1\" class=\"dataframe\">\n",
              "  <thead>\n",
              "    <tr style=\"text-align: right;\">\n",
              "      <th></th>\n",
              "      <th>Car_Name</th>\n",
              "      <th>Year</th>\n",
              "      <th>Selling_Price</th>\n",
              "      <th>Present_Price</th>\n",
              "      <th>Kms_Driven</th>\n",
              "      <th>Fuel_Type</th>\n",
              "      <th>Seller_Type</th>\n",
              "      <th>Transmission</th>\n",
              "      <th>Owner</th>\n",
              "    </tr>\n",
              "  </thead>\n",
              "  <tbody>\n",
              "    <tr>\n",
              "      <th>0</th>\n",
              "      <td>ritz</td>\n",
              "      <td>2014</td>\n",
              "      <td>3.35</td>\n",
              "      <td>5.59</td>\n",
              "      <td>27000</td>\n",
              "      <td>Petrol</td>\n",
              "      <td>Dealer</td>\n",
              "      <td>Manual</td>\n",
              "      <td>0</td>\n",
              "    </tr>\n",
              "    <tr>\n",
              "      <th>1</th>\n",
              "      <td>sx4</td>\n",
              "      <td>2013</td>\n",
              "      <td>4.75</td>\n",
              "      <td>9.54</td>\n",
              "      <td>43000</td>\n",
              "      <td>Diesel</td>\n",
              "      <td>Dealer</td>\n",
              "      <td>Manual</td>\n",
              "      <td>0</td>\n",
              "    </tr>\n",
              "    <tr>\n",
              "      <th>2</th>\n",
              "      <td>ciaz</td>\n",
              "      <td>2017</td>\n",
              "      <td>7.25</td>\n",
              "      <td>9.85</td>\n",
              "      <td>6900</td>\n",
              "      <td>Petrol</td>\n",
              "      <td>Dealer</td>\n",
              "      <td>Manual</td>\n",
              "      <td>0</td>\n",
              "    </tr>\n",
              "    <tr>\n",
              "      <th>3</th>\n",
              "      <td>wagon r</td>\n",
              "      <td>2011</td>\n",
              "      <td>2.85</td>\n",
              "      <td>4.15</td>\n",
              "      <td>5200</td>\n",
              "      <td>Petrol</td>\n",
              "      <td>Dealer</td>\n",
              "      <td>Manual</td>\n",
              "      <td>0</td>\n",
              "    </tr>\n",
              "    <tr>\n",
              "      <th>4</th>\n",
              "      <td>swift</td>\n",
              "      <td>2014</td>\n",
              "      <td>4.60</td>\n",
              "      <td>6.87</td>\n",
              "      <td>42450</td>\n",
              "      <td>Diesel</td>\n",
              "      <td>Dealer</td>\n",
              "      <td>Manual</td>\n",
              "      <td>0</td>\n",
              "    </tr>\n",
              "  </tbody>\n",
              "</table>\n",
              "</div>"
            ],
            "text/plain": [
              "  Car_Name  Year  Selling_Price  ...  Seller_Type  Transmission Owner\n",
              "0     ritz  2014           3.35  ...       Dealer        Manual     0\n",
              "1      sx4  2013           4.75  ...       Dealer        Manual     0\n",
              "2     ciaz  2017           7.25  ...       Dealer        Manual     0\n",
              "3  wagon r  2011           2.85  ...       Dealer        Manual     0\n",
              "4    swift  2014           4.60  ...       Dealer        Manual     0\n",
              "\n",
              "[5 rows x 9 columns]"
            ]
          },
          "execution_count": 5,
          "metadata": {
            "tags": []
          },
          "output_type": "execute_result"
        }
      ],
      "source": [
        "data.head(5)"
      ]
    },
    {
      "cell_type": "markdown",
      "metadata": {
        "id": "SEQRwF73zxuJ"
      },
      "source": [
        "* Analizziamo le dimensioni in memoria, la tipologia delle feature assegnate da pandas e le istanze non nulle."
      ]
    },
    {
      "cell_type": "code",
      "execution_count": null,
      "metadata": {
        "colab": {
          "base_uri": "https://localhost:8080/"
        },
        "id": "jVjlBqEZ020Y",
        "outputId": "68444285-49bb-46b6-ef5f-cc9752e2709d"
      },
      "outputs": [
        {
          "name": "stdout",
          "output_type": "stream",
          "text": [
            "<class 'pandas.core.frame.DataFrame'>\n",
            "RangeIndex: 301 entries, 0 to 300\n",
            "Data columns (total 9 columns):\n",
            " #   Column         Non-Null Count  Dtype  \n",
            "---  ------         --------------  -----  \n",
            " 0   Car_Name       301 non-null    object \n",
            " 1   Year           301 non-null    int64  \n",
            " 2   Selling_Price  301 non-null    float64\n",
            " 3   Present_Price  301 non-null    float64\n",
            " 4   Kms_Driven     301 non-null    int64  \n",
            " 5   Fuel_Type      301 non-null    object \n",
            " 6   Seller_Type    301 non-null    object \n",
            " 7   Transmission   301 non-null    object \n",
            " 8   Owner          301 non-null    int64  \n",
            "dtypes: float64(2), int64(3), object(4)\n",
            "memory usage: 87.6 KB\n"
          ]
        }
      ],
      "source": [
        "data.info(memory_usage = \"deep\")"
      ]
    },
    {
      "cell_type": "markdown",
      "metadata": {
        "id": "HseT6DDQ1jyZ"
      },
      "source": [
        "* Come possiamo vedere `Fuel_Type`, `Seller_type` e `Trasmission` sono considerate come stringhe, ma sapendo che sono categoriche possiamo cambiare la tipologie e ricaricare il DataFrame."
      ]
    },
    {
      "cell_type": "code",
      "execution_count": null,
      "metadata": {
        "id": "AFw_Uckp15-R"
      },
      "outputs": [],
      "source": [
        "new_dtypes = {\n",
        "    \"Fuel_Type\": \"category\",\n",
        "    \"Seller_Type\": \"category\",\n",
        "    \"Transmission\": \"category\"\n",
        "}\n",
        "data = pd.read_csv(\"cars.csv\", dtype = new_dtypes)"
      ]
    },
    {
      "cell_type": "markdown",
      "metadata": {
        "id": "zVdQERY42guU"
      },
      "source": [
        "* Possiamo vedere subito come l'occupazione in \n",
        "memoria è stata ridotta di oltre 50KB  \n",
        "Questa scelta per Dataset come questi, non è rilevante, ma per altre molto più grandi può incidere particolarmente."
      ]
    },
    {
      "cell_type": "code",
      "execution_count": null,
      "metadata": {
        "colab": {
          "base_uri": "https://localhost:8080/"
        },
        "id": "TC_-6Dyy2Iqd",
        "outputId": "8b7da2fc-5dbc-4a4b-e378-57a8c79d767e"
      },
      "outputs": [
        {
          "name": "stdout",
          "output_type": "stream",
          "text": [
            "<class 'pandas.core.frame.DataFrame'>\n",
            "RangeIndex: 301 entries, 0 to 300\n",
            "Data columns (total 9 columns):\n",
            " #   Column         Non-Null Count  Dtype   \n",
            "---  ------         --------------  -----   \n",
            " 0   Car_Name       301 non-null    object  \n",
            " 1   Year           301 non-null    int64   \n",
            " 2   Selling_Price  301 non-null    float64 \n",
            " 3   Present_Price  301 non-null    float64 \n",
            " 4   Kms_Driven     301 non-null    int64   \n",
            " 5   Fuel_Type      301 non-null    category\n",
            " 6   Seller_Type    301 non-null    category\n",
            " 7   Transmission   301 non-null    category\n",
            " 8   Owner          301 non-null    int64   \n",
            "dtypes: category(3), float64(2), int64(3), object(1)\n",
            "memory usage: 33.0 KB\n"
          ]
        }
      ],
      "source": [
        "data.info(memory_usage = \"deep\")"
      ]
    },
    {
      "cell_type": "markdown",
      "metadata": {
        "id": "-nDr6n2n3KLB"
      },
      "source": [
        "* Impostando a `Category` possiamo vedere subito quali sono le possibili scelte, come nel caso del `Fuel_Type`:"
      ]
    },
    {
      "cell_type": "code",
      "execution_count": null,
      "metadata": {
        "colab": {
          "base_uri": "https://localhost:8080/"
        },
        "id": "5tIjirKh2-WL",
        "outputId": "123d7b4e-7cfa-4525-96f1-dda09b58e8d8"
      },
      "outputs": [
        {
          "data": {
            "text/plain": [
              "0    Petrol\n",
              "1    Diesel\n",
              "2    Petrol\n",
              "3    Petrol\n",
              "4    Diesel\n",
              "Name: Fuel_Type, dtype: category\n",
              "Categories (3, object): ['CNG', 'Diesel', 'Petrol']"
            ]
          },
          "execution_count": 9,
          "metadata": {
            "tags": []
          },
          "output_type": "execute_result"
        }
      ],
      "source": [
        "data[\"Fuel_Type\"].head(5)"
      ]
    },
    {
      "cell_type": "markdown",
      "metadata": {
        "id": "WSWrRCwY7DnV"
      },
      "source": [
        "### Significato delle feature\n",
        "\n"
      ]
    },
    {
      "cell_type": "markdown",
      "metadata": {
        "id": "ToVK_5SMatl2"
      },
      "source": [
        "* `Car_name`: Nome dell'auto\n",
        "* `Year`: Anno di produzione\n",
        "* `Selling_Price` : Prezzo richiesto dal venditore\n",
        "* `Present_Price` : Prezzo di listino\n",
        "* `Kms_Driven` : Km percorsi dall'auto\n",
        "* `Fuel_Type` : Tipologia di carburante\n",
        "* `Seller_Type` : Tipologia di venditore\n",
        "* `Transmission` : Tipologia di cambio\n",
        "* `Owner` : Numero di possessori\n",
        "\n",
        "Le tipologie di dati presenti sono:\n",
        "\n",
        "* Numeri interi per l'anno, il kilometraggio e possessore\n",
        "* Numeri non interi per il prezzo\n",
        "* String per il nome\n",
        "* Categorici i restanti"
      ]
    },
    {
      "cell_type": "markdown",
      "metadata": {
        "id": "f6wwteG486Qz"
      },
      "source": [
        "### Analisi delle singole feature"
      ]
    },
    {
      "cell_type": "code",
      "execution_count": null,
      "metadata": {
        "colab": {
          "base_uri": "https://localhost:8080/"
        },
        "id": "UKXC4_Sy6Wus",
        "outputId": "c834a3e3-5e86-4889-f5cb-17801a611485"
      },
      "outputs": [
        {
          "data": {
            "text/html": [
              "<div>\n",
              "<style scoped>\n",
              "    .dataframe tbody tr th:only-of-type {\n",
              "        vertical-align: middle;\n",
              "    }\n",
              "\n",
              "    .dataframe tbody tr th {\n",
              "        vertical-align: top;\n",
              "    }\n",
              "\n",
              "    .dataframe thead th {\n",
              "        text-align: right;\n",
              "    }\n",
              "</style>\n",
              "<table border=\"1\" class=\"dataframe\">\n",
              "  <thead>\n",
              "    <tr style=\"text-align: right;\">\n",
              "      <th></th>\n",
              "      <th>Car_Name</th>\n",
              "      <th>Year</th>\n",
              "      <th>Selling_Price</th>\n",
              "      <th>Present_Price</th>\n",
              "      <th>Kms_Driven</th>\n",
              "      <th>Fuel_Type</th>\n",
              "      <th>Seller_Type</th>\n",
              "      <th>Transmission</th>\n",
              "      <th>Owner</th>\n",
              "    </tr>\n",
              "  </thead>\n",
              "  <tbody>\n",
              "    <tr>\n",
              "      <th>count</th>\n",
              "      <td>301</td>\n",
              "      <td>301.000000</td>\n",
              "      <td>301.000000</td>\n",
              "      <td>301.000000</td>\n",
              "      <td>301.000000</td>\n",
              "      <td>301</td>\n",
              "      <td>301</td>\n",
              "      <td>301</td>\n",
              "      <td>301.000000</td>\n",
              "    </tr>\n",
              "    <tr>\n",
              "      <th>unique</th>\n",
              "      <td>98</td>\n",
              "      <td>NaN</td>\n",
              "      <td>NaN</td>\n",
              "      <td>NaN</td>\n",
              "      <td>NaN</td>\n",
              "      <td>3</td>\n",
              "      <td>2</td>\n",
              "      <td>2</td>\n",
              "      <td>NaN</td>\n",
              "    </tr>\n",
              "    <tr>\n",
              "      <th>top</th>\n",
              "      <td>city</td>\n",
              "      <td>NaN</td>\n",
              "      <td>NaN</td>\n",
              "      <td>NaN</td>\n",
              "      <td>NaN</td>\n",
              "      <td>Petrol</td>\n",
              "      <td>Dealer</td>\n",
              "      <td>Manual</td>\n",
              "      <td>NaN</td>\n",
              "    </tr>\n",
              "    <tr>\n",
              "      <th>freq</th>\n",
              "      <td>26</td>\n",
              "      <td>NaN</td>\n",
              "      <td>NaN</td>\n",
              "      <td>NaN</td>\n",
              "      <td>NaN</td>\n",
              "      <td>239</td>\n",
              "      <td>195</td>\n",
              "      <td>261</td>\n",
              "      <td>NaN</td>\n",
              "    </tr>\n",
              "    <tr>\n",
              "      <th>mean</th>\n",
              "      <td>NaN</td>\n",
              "      <td>2013.627907</td>\n",
              "      <td>4.661296</td>\n",
              "      <td>7.628472</td>\n",
              "      <td>36947.205980</td>\n",
              "      <td>NaN</td>\n",
              "      <td>NaN</td>\n",
              "      <td>NaN</td>\n",
              "      <td>0.043189</td>\n",
              "    </tr>\n",
              "    <tr>\n",
              "      <th>std</th>\n",
              "      <td>NaN</td>\n",
              "      <td>2.891554</td>\n",
              "      <td>5.082812</td>\n",
              "      <td>8.644115</td>\n",
              "      <td>38886.883882</td>\n",
              "      <td>NaN</td>\n",
              "      <td>NaN</td>\n",
              "      <td>NaN</td>\n",
              "      <td>0.247915</td>\n",
              "    </tr>\n",
              "    <tr>\n",
              "      <th>min</th>\n",
              "      <td>NaN</td>\n",
              "      <td>2003.000000</td>\n",
              "      <td>0.100000</td>\n",
              "      <td>0.320000</td>\n",
              "      <td>500.000000</td>\n",
              "      <td>NaN</td>\n",
              "      <td>NaN</td>\n",
              "      <td>NaN</td>\n",
              "      <td>0.000000</td>\n",
              "    </tr>\n",
              "    <tr>\n",
              "      <th>25%</th>\n",
              "      <td>NaN</td>\n",
              "      <td>2012.000000</td>\n",
              "      <td>0.900000</td>\n",
              "      <td>1.200000</td>\n",
              "      <td>15000.000000</td>\n",
              "      <td>NaN</td>\n",
              "      <td>NaN</td>\n",
              "      <td>NaN</td>\n",
              "      <td>0.000000</td>\n",
              "    </tr>\n",
              "    <tr>\n",
              "      <th>50%</th>\n",
              "      <td>NaN</td>\n",
              "      <td>2014.000000</td>\n",
              "      <td>3.600000</td>\n",
              "      <td>6.400000</td>\n",
              "      <td>32000.000000</td>\n",
              "      <td>NaN</td>\n",
              "      <td>NaN</td>\n",
              "      <td>NaN</td>\n",
              "      <td>0.000000</td>\n",
              "    </tr>\n",
              "    <tr>\n",
              "      <th>75%</th>\n",
              "      <td>NaN</td>\n",
              "      <td>2016.000000</td>\n",
              "      <td>6.000000</td>\n",
              "      <td>9.900000</td>\n",
              "      <td>48767.000000</td>\n",
              "      <td>NaN</td>\n",
              "      <td>NaN</td>\n",
              "      <td>NaN</td>\n",
              "      <td>0.000000</td>\n",
              "    </tr>\n",
              "    <tr>\n",
              "      <th>max</th>\n",
              "      <td>NaN</td>\n",
              "      <td>2018.000000</td>\n",
              "      <td>35.000000</td>\n",
              "      <td>92.600000</td>\n",
              "      <td>500000.000000</td>\n",
              "      <td>NaN</td>\n",
              "      <td>NaN</td>\n",
              "      <td>NaN</td>\n",
              "      <td>3.000000</td>\n",
              "    </tr>\n",
              "  </tbody>\n",
              "</table>\n",
              "</div>"
            ],
            "text/plain": [
              "       Car_Name         Year  ...  Transmission       Owner\n",
              "count       301   301.000000  ...           301  301.000000\n",
              "unique       98          NaN  ...             2         NaN\n",
              "top        city          NaN  ...        Manual         NaN\n",
              "freq         26          NaN  ...           261         NaN\n",
              "mean        NaN  2013.627907  ...           NaN    0.043189\n",
              "std         NaN     2.891554  ...           NaN    0.247915\n",
              "min         NaN  2003.000000  ...           NaN    0.000000\n",
              "25%         NaN  2012.000000  ...           NaN    0.000000\n",
              "50%         NaN  2014.000000  ...           NaN    0.000000\n",
              "75%         NaN  2016.000000  ...           NaN    0.000000\n",
              "max         NaN  2018.000000  ...           NaN    3.000000\n",
              "\n",
              "[11 rows x 9 columns]"
            ]
          },
          "execution_count": 10,
          "metadata": {
            "tags": []
          },
          "output_type": "execute_result"
        }
      ],
      "source": [
        "data.describe(include = \"all\")"
      ]
    },
    {
      "cell_type": "markdown",
      "metadata": {
        "id": "hnHpd9E8GN2u"
      },
      "source": [
        "* Grazie al metodo describe riusciamo a ottenere varie statistiche che ci possono aiutare ad analizzare il nostro Dataset.\n",
        "\n",
        "* Come prima cosa possiamo vedere come l'Owner è tendente allo 0, questo ci fa capire come la maggior parte delle macchine ha avuto un solo proprietario.\n",
        "\n",
        "* A seguire analizziamo la differenza tra Selling e Present medio, vedendo come si distacchi la media di circa 3.0.\n",
        "Nonostante si abbia un prezzo medio relativamente basso abbiamo picchi di massimo molto più alti, fino a 35.0\n",
        "\n",
        "* Vediamo inoltre come quasi l'80% delle auto ha come carburante il Petrolio e come cambio quello Manuale.\n",
        "\n",
        "* Infine è bene notare che oltre il 60% delle automobili venga venduta da concessionari."
      ]
    },
    {
      "cell_type": "code",
      "execution_count": null,
      "metadata": {
        "id": "6craZF65qv2v"
      },
      "outputs": [],
      "source": [
        "def numerical_graph():\n",
        "  fig = make_subplots(rows = 2, cols = 2, subplot_titles = (\"Selling Price\", \"Present Price\", \"KMs\", \"Year\"))\n",
        "\n",
        "  fig.add_trace(go.Histogram(x = data[\"Selling_Price\"], name = \"Selling Cost\"), row = 1, col = 1)\n",
        "  fig.add_trace(go.Histogram(x = data[\"Present_Price\"], name = \"Present Cost\"), row = 1, col = 2)\n",
        "  fig.add_trace(go.Histogram(x = data[\"Kms_Driven\"], name = \"Kms\"), row = 2, col = 1)\n",
        "  fig.add_trace(go.Histogram(x = data[\"Year\"], name = \"Days\"), row = 2, col = 2)\n",
        "  fig.show()"
      ]
    },
    {
      "cell_type": "markdown",
      "metadata": {
        "id": "JTzxdrSoP7B3"
      },
      "source": [
        "* Qui di seguito sono riportati 4 istogrammi che analizzano la densità di frequenza, rispettivamente di `Selling Price`, `Present Price`, `KMs` e `Years`.  "
      ]
    },
    {
      "cell_type": "code",
      "execution_count": null,
      "metadata": {
        "colab": {
          "base_uri": "https://localhost:8080/"
        },
        "id": "-34xC3qIttoI",
        "outputId": "a4f08fec-1bbc-4659-f669-d05a5912c925"
      },
      "outputs": [
        {
          "data": {
            "text/html": [
              "<html>\n",
              "<head><meta charset=\"utf-8\" /></head>\n",
              "<body>\n",
              "    <div>\n",
              "            <script src=\"https://cdnjs.cloudflare.com/ajax/libs/mathjax/2.7.5/MathJax.js?config=TeX-AMS-MML_SVG\"></script><script type=\"text/javascript\">if (window.MathJax) {MathJax.Hub.Config({SVG: {font: \"STIX-Web\"}});}</script>\n",
              "                <script type=\"text/javascript\">window.PlotlyConfig = {MathJaxConfig: 'local'};</script>\n",
              "        <script src=\"https://cdn.plot.ly/plotly-latest.min.js\"></script>    \n",
              "            <div id=\"d8d5c7b0-da8c-4594-9cf2-99607f263e04\" class=\"plotly-graph-div\" style=\"height:525px; width:100%;\"></div>\n",
              "            <script type=\"text/javascript\">\n",
              "                \n",
              "                    window.PLOTLYENV=window.PLOTLYENV || {};\n",
              "                    \n",
              "                if (document.getElementById(\"d8d5c7b0-da8c-4594-9cf2-99607f263e04\")) {\n",
              "                    Plotly.newPlot(\n",
              "                        'd8d5c7b0-da8c-4594-9cf2-99607f263e04',\n",
              "                        [{\"name\": \"Selling Cost\", \"type\": \"histogram\", \"x\": [3.35, 4.75, 7.25, 2.85, 4.6, 9.25, 6.75, 6.5, 8.75, 7.45, 2.85, 6.85, 7.5, 6.1, 2.25, 7.75, 7.25, 7.75, 3.25, 2.65, 2.85, 4.9, 4.4, 2.5, 2.9, 3.0, 4.15, 6.0, 1.95, 7.45, 3.1, 2.35, 4.95, 6.0, 5.5, 2.95, 4.65, 0.35, 3.0, 2.25, 5.85, 2.55, 1.95, 5.5, 1.25, 7.5, 2.65, 1.05, 5.8, 7.75, 14.9, 23.0, 18.0, 16.0, 2.75, 3.6, 4.5, 4.75, 4.1, 19.99, 6.95, 4.5, 18.75, 23.5, 33.0, 4.75, 19.75, 9.25, 4.35, 14.25, 3.95, 4.5, 7.45, 2.65, 4.9, 3.95, 5.5, 1.5, 5.25, 14.5, 14.73, 4.75, 23.0, 12.5, 3.49, 2.5, 35.0, 5.9, 3.45, 4.75, 3.8, 11.25, 3.51, 23.0, 4.0, 5.85, 20.75, 17.0, 7.05, 9.65, 1.75, 1.7, 1.65, 1.45, 1.35, 1.35, 1.35, 1.25, 1.2, 1.2, 1.2, 1.15, 1.15, 1.15, 1.15, 1.11, 1.1, 1.1, 1.1, 1.05, 1.05, 1.05, 1.05, 1.0, 0.95, 0.9, 0.9, 0.75, 0.8, 0.78, 0.75, 0.75, 0.75, 0.72, 0.65, 0.65, 0.65, 0.65, 0.6, 0.6, 0.6, 0.6, 0.6, 0.6, 0.6, 0.6, 0.55, 0.55, 0.52, 0.51, 0.5, 0.5, 0.5, 0.5, 0.5, 0.48, 0.48, 0.48, 0.48, 0.45, 0.45, 0.45, 0.45, 0.45, 0.45, 0.45, 0.45, 0.42, 0.42, 0.4, 0.4, 0.4, 0.4, 0.4, 0.38, 0.38, 0.35, 0.35, 0.35, 0.31, 0.3, 0.3, 0.3, 0.27, 0.25, 0.25, 0.25, 0.25, 0.25, 0.2, 0.2, 0.2, 0.2, 0.2, 0.2, 0.18, 0.17, 0.16, 0.15, 0.12, 0.1, 3.25, 4.4, 2.95, 2.75, 5.25, 5.75, 5.15, 7.9, 4.85, 3.1, 11.75, 11.25, 2.9, 5.25, 4.5, 2.9, 3.15, 6.45, 4.5, 3.5, 4.5, 6.0, 8.25, 5.11, 2.7, 5.25, 2.55, 4.95, 3.1, 6.15, 9.25, 11.45, 3.9, 5.5, 9.1, 3.1, 11.25, 4.8, 2.0, 5.35, 4.75, 4.4, 6.25, 5.95, 5.2, 3.75, 5.95, 4.0, 5.25, 12.9, 5.0, 5.4, 7.2, 5.25, 3.0, 10.25, 8.5, 8.4, 3.9, 9.15, 5.5, 4.0, 6.6, 4.0, 6.5, 3.65, 8.35, 4.8, 6.7, 4.1, 3.0, 7.5, 2.25, 5.3, 10.9, 8.65, 9.7, 6.0, 6.25, 5.25, 2.1, 8.25, 8.99, 3.5, 7.4, 5.65, 5.75, 8.4, 10.11, 4.5, 5.4, 6.4, 3.25, 3.75, 8.55, 9.5, 4.0, 3.35, 11.5, 5.3], \"xaxis\": \"x\", \"yaxis\": \"y\"}, {\"name\": \"Present Cost\", \"type\": \"histogram\", \"x\": [5.59, 9.54, 9.85, 4.15, 6.87, 9.83, 8.12, 8.61, 8.89, 8.92, 3.6, 10.38, 9.94, 7.71, 7.21, 10.79, 10.79, 10.79, 5.09, 7.98, 3.95, 5.71, 8.01, 3.46, 4.41, 4.99, 5.87, 6.49, 3.95, 10.38, 5.98, 4.89, 7.49, 9.95, 8.06, 7.74, 7.2, 2.28, 3.76, 7.98, 7.87, 3.98, 7.15, 8.06, 2.69, 12.04, 4.89, 4.15, 7.71, 9.29, 30.61, 30.61, 19.77, 30.61, 10.21, 15.04, 7.27, 18.54, 6.8, 35.96, 18.61, 7.7, 35.96, 35.96, 36.23, 6.95, 23.15, 20.45, 13.74, 20.91, 6.76, 12.48, 18.61, 5.71, 8.93, 6.8, 14.68, 12.35, 22.83, 30.61, 14.89, 7.85, 25.39, 13.46, 13.46, 23.73, 92.6, 13.74, 6.05, 6.76, 18.61, 16.09, 13.7, 30.61, 22.78, 18.61, 25.39, 18.64, 18.61, 20.45, 1.9, 1.82, 1.78, 1.6, 1.47, 2.37, 3.45, 1.5, 1.5, 1.47, 1.78, 1.5, 2.4, 1.4, 1.47, 1.47, 1.47, 1.9, 1.47, 1.9, 1.26, 1.5, 1.17, 1.47, 1.75, 1.75, 0.95, 0.8, 0.87, 0.84, 0.87, 0.82, 0.95, 0.95, 0.81, 0.74, 1.2, 0.787, 0.87, 0.95, 1.2, 0.8, 0.84, 0.84, 0.99, 0.81, 0.787, 0.84, 0.94, 0.94, 0.826, 0.55, 0.99, 0.99, 0.88, 0.51, 0.52, 0.84, 0.54, 0.51, 0.95, 0.826, 0.99, 0.95, 0.54, 0.54, 0.55, 0.81, 0.73, 0.54, 0.83, 0.55, 0.64, 0.51, 0.72, 0.787, 1.05, 0.57, 0.52, 1.05, 0.51, 0.48, 0.58, 0.47, 0.75, 0.58, 0.52, 0.51, 0.57, 0.57, 0.75, 0.57, 0.75, 0.65, 0.787, 0.32, 0.52, 0.51, 0.57, 0.58, 0.75, 6.79, 5.7, 4.6, 4.43, 5.7, 7.13, 5.7, 8.1, 5.7, 4.6, 14.79, 13.6, 6.79, 5.7, 9.4, 4.43, 4.43, 9.4, 9.4, 4.43, 6.79, 7.6, 9.4, 9.4, 4.6, 5.7, 4.43, 9.4, 6.79, 9.4, 9.4, 14.79, 5.7, 5.7, 9.4, 4.43, 13.6, 9.4, 4.43, 9.4, 7.13, 7.13, 7.6, 9.4, 9.4, 6.79, 9.4, 4.6, 7.6, 13.6, 9.9, 6.82, 9.9, 9.9, 5.35, 13.6, 13.6, 13.6, 7.0, 13.6, 5.97, 5.8, 7.7, 7.0, 8.7, 7.0, 9.4, 5.8, 10.0, 10.0, 10.0, 10.0, 7.5, 6.8, 13.6, 13.6, 13.6, 8.4, 13.6, 5.9, 7.6, 14.0, 11.8, 5.9, 8.5, 7.9, 7.5, 13.6, 13.6, 6.4, 6.1, 8.4, 9.9, 6.8, 13.09, 11.6, 5.9, 11.0, 12.5, 5.9], \"xaxis\": \"x2\", \"yaxis\": \"y2\"}, {\"name\": \"Kms\", \"type\": \"histogram\", \"x\": [27000, 43000, 6900, 5200, 42450, 2071, 18796, 33429, 20273, 42367, 2135, 51000, 15000, 26000, 77427, 43000, 41678, 43000, 35500, 41442, 25000, 2400, 50000, 45280, 56879, 20000, 55138, 16200, 44542, 45000, 51439, 54200, 39000, 45000, 45000, 49998, 48767, 127000, 10079, 62000, 24524, 46706, 58000, 45780, 50000, 15000, 64532, 65000, 25870, 37000, 104707, 40000, 15000, 135000, 90000, 70000, 40534, 50000, 39485, 41000, 40001, 40588, 78000, 47000, 6000, 45000, 11000, 59000, 88000, 12000, 71000, 45000, 56001, 43000, 83000, 36000, 72000, 135154, 80000, 89000, 23000, 40000, 15000, 38000, 197176, 142000, 78000, 56000, 47000, 40000, 62000, 58242, 75000, 40000, 89000, 72000, 29000, 8700, 45000, 50024, 3000, 1400, 4000, 1200, 4100, 21700, 16500, 15000, 18000, 11000, 6000, 8700, 7000, 35000, 17000, 17500, 33000, 14000, 26000, 5400, 5700, 6900, 6000, 46500, 11500, 40000, 1300, 7000, 3000, 5000, 11000, 18000, 3500, 500, 11800, 5000, 23500, 16000, 15000, 16600, 32000, 20000, 29000, 25000, 25000, 19000, 15000, 58000, 45000, 24000, 6000, 31000, 13000, 45000, 8000, 4300, 15000, 23000, 8600, 4000, 24000, 23000, 14500, 27000, 14000, 500, 1000, 42000, 12000, 14000, 5500, 6700, 13700, 1300, 38600, 75000, 30000, 24000, 19000, 213000, 60000, 50000, 30000, 21000, 26000, 1900, 22000, 32000, 18000, 55000, 60000, 25000, 49000, 24000, 50000, 35000, 500000, 33000, 35000, 53000, 92233, 58000, 28200, 53460, 28282, 3493, 12479, 34797, 3435, 21125, 35775, 43535, 22671, 31604, 20114, 36100, 12500, 15000, 45078, 36000, 38488, 32000, 77632, 61381, 36198, 22517, 24678, 57000, 60000, 52132, 45000, 15001, 12900, 53000, 4492, 15141, 11849, 68000, 60241, 23709, 32322, 35866, 34000, 7000, 49000, 71000, 35000, 36000, 30000, 17000, 35934, 56701, 31427, 48000, 54242, 53675, 49562, 40324, 25000, 36054, 29223, 5600, 40023, 16002, 40026, 21200, 35000, 19434, 19000, 18828, 69341, 69562, 27600, 61203, 16500, 30753, 24800, 21780, 4000, 40126, 14465, 50456, 63000, 9010, 9800, 15059, 28569, 44000, 34000, 10980, 19000, 31427, 12000, 38000, 33019, 60076, 33988, 60000, 87934, 9000, 5464], \"xaxis\": \"x3\", \"yaxis\": \"y3\"}, {\"name\": \"Days\", \"type\": \"histogram\", \"x\": [2014, 2013, 2017, 2011, 2014, 2018, 2015, 2015, 2016, 2015, 2017, 2015, 2015, 2015, 2009, 2016, 2015, 2016, 2015, 2010, 2016, 2017, 2011, 2014, 2013, 2011, 2013, 2017, 2010, 2015, 2012, 2011, 2014, 2014, 2014, 2011, 2015, 2003, 2016, 2003, 2016, 2014, 2008, 2014, 2012, 2014, 2013, 2006, 2015, 2017, 2012, 2015, 2017, 2013, 2005, 2009, 2015, 2010, 2014, 2014, 2013, 2015, 2014, 2015, 2017, 2014, 2017, 2010, 2011, 2016, 2014, 2011, 2013, 2011, 2014, 2015, 2013, 2004, 2010, 2012, 2016, 2015, 2017, 2015, 2005, 2006, 2010, 2012, 2013, 2014, 2009, 2014, 2005, 2015, 2008, 2012, 2016, 2017, 2013, 2010, 2016, 2017, 2017, 2017, 2017, 2015, 2014, 2013, 2016, 2017, 2016, 2016, 2014, 2016, 2015, 2015, 2013, 2015, 2015, 2013, 2016, 2011, 2016, 2013, 2012, 2009, 2017, 2016, 2017, 2017, 2017, 2015, 2017, 2016, 2017, 2015, 2014, 2013, 2016, 2015, 2013, 2016, 2015, 2016, 2014, 2012, 2014, 2015, 2010, 2016, 2011, 2016, 2012, 2013, 2014, 2017, 2017, 2015, 2017, 2017, 2011, 2014, 2012, 2010, 2016, 2016, 2016, 2014, 2013, 2015, 2012, 2015, 2014, 2017, 2015, 2011, 2011, 2016, 2014, 2010, 2012, 2016, 2013, 2013, 2008, 2008, 2010, 2013, 2013, 2005, 2008, 2012, 2007, 2013, 2008, 2015, 2008, 2010, 2011, 2007, 2006, 2010, 2015, 2011, 2015, 2016, 2017, 2015, 2017, 2015, 2012, 2015, 2016, 2011, 2017, 2012, 2016, 2016, 2014, 2012, 2017, 2013, 2014, 2015, 2013, 2011, 2015, 2011, 2012, 2012, 2013, 2017, 2015, 2013, 2015, 2017, 2016, 2015, 2013, 2012, 2012, 2015, 2014, 2016, 2013, 2012, 2012, 2015, 2013, 2016, 2016, 2013, 2015, 2014, 2013, 2012, 2016, 2015, 2015, 2014, 2016, 2016, 2015, 2016, 2015, 2017, 2014, 2016, 2017, 2015, 2011, 2009, 2015, 2010, 2014, 2016, 2015, 2015, 2016, 2014, 2015, 2006, 2014, 2016, 2013, 2016, 2016, 2015, 2015, 2016, 2014, 2015, 2016, 2010, 2014, 2015, 2016, 2015, 2009, 2017, 2016], \"xaxis\": \"x4\", \"yaxis\": \"y4\"}],\n",
              "                        {\"annotations\": [{\"font\": {\"size\": 16}, \"showarrow\": false, \"text\": \"Selling Price\", \"x\": 0.225, \"xanchor\": \"center\", \"xref\": \"paper\", \"y\": 1.0, \"yanchor\": \"bottom\", \"yref\": \"paper\"}, {\"font\": {\"size\": 16}, \"showarrow\": false, \"text\": \"Present Price\", \"x\": 0.775, \"xanchor\": \"center\", \"xref\": \"paper\", \"y\": 1.0, \"yanchor\": \"bottom\", \"yref\": \"paper\"}, {\"font\": {\"size\": 16}, \"showarrow\": false, \"text\": \"KMs\", \"x\": 0.225, \"xanchor\": \"center\", \"xref\": \"paper\", \"y\": 0.375, \"yanchor\": \"bottom\", \"yref\": \"paper\"}, {\"font\": {\"size\": 16}, \"showarrow\": false, \"text\": \"Year\", \"x\": 0.775, \"xanchor\": \"center\", \"xref\": \"paper\", \"y\": 0.375, \"yanchor\": \"bottom\", \"yref\": \"paper\"}], \"template\": {\"data\": {\"bar\": [{\"error_x\": {\"color\": \"#2a3f5f\"}, \"error_y\": {\"color\": \"#2a3f5f\"}, \"marker\": {\"line\": {\"color\": \"#E5ECF6\", \"width\": 0.5}}, \"type\": \"bar\"}], \"barpolar\": [{\"marker\": {\"line\": {\"color\": \"#E5ECF6\", \"width\": 0.5}}, \"type\": \"barpolar\"}], \"carpet\": [{\"aaxis\": {\"endlinecolor\": \"#2a3f5f\", \"gridcolor\": \"white\", \"linecolor\": \"white\", \"minorgridcolor\": \"white\", \"startlinecolor\": \"#2a3f5f\"}, \"baxis\": {\"endlinecolor\": \"#2a3f5f\", \"gridcolor\": \"white\", \"linecolor\": \"white\", \"minorgridcolor\": \"white\", \"startlinecolor\": \"#2a3f5f\"}, \"type\": \"carpet\"}], \"choropleth\": [{\"colorbar\": {\"outlinewidth\": 0, \"ticks\": \"\"}, \"type\": \"choropleth\"}], \"contour\": [{\"colorbar\": {\"outlinewidth\": 0, \"ticks\": \"\"}, \"colorscale\": [[0.0, \"#0d0887\"], [0.1111111111111111, \"#46039f\"], [0.2222222222222222, \"#7201a8\"], [0.3333333333333333, \"#9c179e\"], [0.4444444444444444, \"#bd3786\"], [0.5555555555555556, \"#d8576b\"], [0.6666666666666666, \"#ed7953\"], [0.7777777777777778, \"#fb9f3a\"], [0.8888888888888888, \"#fdca26\"], [1.0, \"#f0f921\"]], \"type\": \"contour\"}], \"contourcarpet\": [{\"colorbar\": {\"outlinewidth\": 0, \"ticks\": \"\"}, \"type\": \"contourcarpet\"}], \"heatmap\": [{\"colorbar\": {\"outlinewidth\": 0, \"ticks\": \"\"}, \"colorscale\": [[0.0, \"#0d0887\"], [0.1111111111111111, \"#46039f\"], [0.2222222222222222, \"#7201a8\"], [0.3333333333333333, \"#9c179e\"], [0.4444444444444444, \"#bd3786\"], [0.5555555555555556, \"#d8576b\"], [0.6666666666666666, \"#ed7953\"], [0.7777777777777778, \"#fb9f3a\"], [0.8888888888888888, \"#fdca26\"], [1.0, \"#f0f921\"]], \"type\": \"heatmap\"}], \"heatmapgl\": [{\"colorbar\": {\"outlinewidth\": 0, \"ticks\": \"\"}, \"colorscale\": [[0.0, \"#0d0887\"], [0.1111111111111111, \"#46039f\"], [0.2222222222222222, \"#7201a8\"], [0.3333333333333333, \"#9c179e\"], [0.4444444444444444, \"#bd3786\"], [0.5555555555555556, \"#d8576b\"], [0.6666666666666666, \"#ed7953\"], [0.7777777777777778, \"#fb9f3a\"], [0.8888888888888888, \"#fdca26\"], [1.0, \"#f0f921\"]], \"type\": \"heatmapgl\"}], \"histogram\": [{\"marker\": {\"colorbar\": {\"outlinewidth\": 0, \"ticks\": \"\"}}, \"type\": \"histogram\"}], \"histogram2d\": [{\"colorbar\": {\"outlinewidth\": 0, \"ticks\": \"\"}, \"colorscale\": [[0.0, \"#0d0887\"], [0.1111111111111111, \"#46039f\"], [0.2222222222222222, \"#7201a8\"], [0.3333333333333333, \"#9c179e\"], [0.4444444444444444, \"#bd3786\"], [0.5555555555555556, \"#d8576b\"], [0.6666666666666666, \"#ed7953\"], [0.7777777777777778, \"#fb9f3a\"], [0.8888888888888888, \"#fdca26\"], [1.0, \"#f0f921\"]], \"type\": \"histogram2d\"}], \"histogram2dcontour\": [{\"colorbar\": {\"outlinewidth\": 0, \"ticks\": \"\"}, \"colorscale\": [[0.0, \"#0d0887\"], [0.1111111111111111, \"#46039f\"], [0.2222222222222222, \"#7201a8\"], [0.3333333333333333, \"#9c179e\"], [0.4444444444444444, \"#bd3786\"], [0.5555555555555556, \"#d8576b\"], [0.6666666666666666, \"#ed7953\"], [0.7777777777777778, \"#fb9f3a\"], [0.8888888888888888, \"#fdca26\"], [1.0, \"#f0f921\"]], \"type\": \"histogram2dcontour\"}], \"mesh3d\": [{\"colorbar\": {\"outlinewidth\": 0, \"ticks\": \"\"}, \"type\": \"mesh3d\"}], \"parcoords\": [{\"line\": {\"colorbar\": {\"outlinewidth\": 0, \"ticks\": \"\"}}, \"type\": \"parcoords\"}], \"pie\": [{\"automargin\": true, \"type\": \"pie\"}], \"scatter\": [{\"marker\": {\"colorbar\": {\"outlinewidth\": 0, \"ticks\": \"\"}}, \"type\": \"scatter\"}], \"scatter3d\": [{\"line\": {\"colorbar\": {\"outlinewidth\": 0, \"ticks\": \"\"}}, \"marker\": {\"colorbar\": {\"outlinewidth\": 0, \"ticks\": \"\"}}, \"type\": \"scatter3d\"}], \"scattercarpet\": [{\"marker\": {\"colorbar\": {\"outlinewidth\": 0, \"ticks\": \"\"}}, \"type\": \"scattercarpet\"}], \"scattergeo\": [{\"marker\": {\"colorbar\": {\"outlinewidth\": 0, \"ticks\": \"\"}}, \"type\": \"scattergeo\"}], \"scattergl\": [{\"marker\": {\"colorbar\": {\"outlinewidth\": 0, \"ticks\": \"\"}}, \"type\": \"scattergl\"}], \"scattermapbox\": [{\"marker\": {\"colorbar\": {\"outlinewidth\": 0, \"ticks\": \"\"}}, \"type\": \"scattermapbox\"}], \"scatterpolar\": [{\"marker\": {\"colorbar\": {\"outlinewidth\": 0, \"ticks\": \"\"}}, \"type\": \"scatterpolar\"}], \"scatterpolargl\": [{\"marker\": {\"colorbar\": {\"outlinewidth\": 0, \"ticks\": \"\"}}, \"type\": \"scatterpolargl\"}], \"scatterternary\": [{\"marker\": {\"colorbar\": {\"outlinewidth\": 0, \"ticks\": \"\"}}, \"type\": \"scatterternary\"}], \"surface\": [{\"colorbar\": {\"outlinewidth\": 0, \"ticks\": \"\"}, \"colorscale\": [[0.0, \"#0d0887\"], [0.1111111111111111, \"#46039f\"], [0.2222222222222222, \"#7201a8\"], [0.3333333333333333, \"#9c179e\"], [0.4444444444444444, \"#bd3786\"], [0.5555555555555556, \"#d8576b\"], [0.6666666666666666, \"#ed7953\"], [0.7777777777777778, \"#fb9f3a\"], [0.8888888888888888, \"#fdca26\"], [1.0, \"#f0f921\"]], \"type\": \"surface\"}], \"table\": [{\"cells\": {\"fill\": {\"color\": \"#EBF0F8\"}, \"line\": {\"color\": \"white\"}}, \"header\": {\"fill\": {\"color\": \"#C8D4E3\"}, \"line\": {\"color\": \"white\"}}, \"type\": \"table\"}]}, \"layout\": {\"annotationdefaults\": {\"arrowcolor\": \"#2a3f5f\", \"arrowhead\": 0, \"arrowwidth\": 1}, \"coloraxis\": {\"colorbar\": {\"outlinewidth\": 0, \"ticks\": \"\"}}, \"colorscale\": {\"diverging\": [[0, \"#8e0152\"], [0.1, \"#c51b7d\"], [0.2, \"#de77ae\"], [0.3, \"#f1b6da\"], [0.4, \"#fde0ef\"], [0.5, \"#f7f7f7\"], [0.6, \"#e6f5d0\"], [0.7, \"#b8e186\"], [0.8, \"#7fbc41\"], [0.9, \"#4d9221\"], [1, \"#276419\"]], \"sequential\": [[0.0, \"#0d0887\"], [0.1111111111111111, \"#46039f\"], [0.2222222222222222, \"#7201a8\"], [0.3333333333333333, \"#9c179e\"], [0.4444444444444444, \"#bd3786\"], [0.5555555555555556, \"#d8576b\"], [0.6666666666666666, \"#ed7953\"], [0.7777777777777778, \"#fb9f3a\"], [0.8888888888888888, \"#fdca26\"], [1.0, \"#f0f921\"]], \"sequentialminus\": [[0.0, \"#0d0887\"], [0.1111111111111111, \"#46039f\"], [0.2222222222222222, \"#7201a8\"], [0.3333333333333333, \"#9c179e\"], [0.4444444444444444, \"#bd3786\"], [0.5555555555555556, \"#d8576b\"], [0.6666666666666666, \"#ed7953\"], [0.7777777777777778, \"#fb9f3a\"], [0.8888888888888888, \"#fdca26\"], [1.0, \"#f0f921\"]]}, \"colorway\": [\"#636efa\", \"#EF553B\", \"#00cc96\", \"#ab63fa\", \"#FFA15A\", \"#19d3f3\", \"#FF6692\", \"#B6E880\", \"#FF97FF\", \"#FECB52\"], \"font\": {\"color\": \"#2a3f5f\"}, \"geo\": {\"bgcolor\": \"white\", \"lakecolor\": \"white\", \"landcolor\": \"#E5ECF6\", \"showlakes\": true, \"showland\": true, \"subunitcolor\": \"white\"}, \"hoverlabel\": {\"align\": \"left\"}, \"hovermode\": \"closest\", \"mapbox\": {\"style\": \"light\"}, \"paper_bgcolor\": \"white\", \"plot_bgcolor\": \"#E5ECF6\", \"polar\": {\"angularaxis\": {\"gridcolor\": \"white\", \"linecolor\": \"white\", \"ticks\": \"\"}, \"bgcolor\": \"#E5ECF6\", \"radialaxis\": {\"gridcolor\": \"white\", \"linecolor\": \"white\", \"ticks\": \"\"}}, \"scene\": {\"xaxis\": {\"backgroundcolor\": \"#E5ECF6\", \"gridcolor\": \"white\", \"gridwidth\": 2, \"linecolor\": \"white\", \"showbackground\": true, \"ticks\": \"\", \"zerolinecolor\": \"white\"}, \"yaxis\": {\"backgroundcolor\": \"#E5ECF6\", \"gridcolor\": \"white\", \"gridwidth\": 2, \"linecolor\": \"white\", \"showbackground\": true, \"ticks\": \"\", \"zerolinecolor\": \"white\"}, \"zaxis\": {\"backgroundcolor\": \"#E5ECF6\", \"gridcolor\": \"white\", \"gridwidth\": 2, \"linecolor\": \"white\", \"showbackground\": true, \"ticks\": \"\", \"zerolinecolor\": \"white\"}}, \"shapedefaults\": {\"line\": {\"color\": \"#2a3f5f\"}}, \"ternary\": {\"aaxis\": {\"gridcolor\": \"white\", \"linecolor\": \"white\", \"ticks\": \"\"}, \"baxis\": {\"gridcolor\": \"white\", \"linecolor\": \"white\", \"ticks\": \"\"}, \"bgcolor\": \"#E5ECF6\", \"caxis\": {\"gridcolor\": \"white\", \"linecolor\": \"white\", \"ticks\": \"\"}}, \"title\": {\"x\": 0.05}, \"xaxis\": {\"automargin\": true, \"gridcolor\": \"white\", \"linecolor\": \"white\", \"ticks\": \"\", \"title\": {\"standoff\": 15}, \"zerolinecolor\": \"white\", \"zerolinewidth\": 2}, \"yaxis\": {\"automargin\": true, \"gridcolor\": \"white\", \"linecolor\": \"white\", \"ticks\": \"\", \"title\": {\"standoff\": 15}, \"zerolinecolor\": \"white\", \"zerolinewidth\": 2}}}, \"xaxis\": {\"anchor\": \"y\", \"domain\": [0.0, 0.45]}, \"xaxis2\": {\"anchor\": \"y2\", \"domain\": [0.55, 1.0]}, \"xaxis3\": {\"anchor\": \"y3\", \"domain\": [0.0, 0.45]}, \"xaxis4\": {\"anchor\": \"y4\", \"domain\": [0.55, 1.0]}, \"yaxis\": {\"anchor\": \"x\", \"domain\": [0.625, 1.0]}, \"yaxis2\": {\"anchor\": \"x2\", \"domain\": [0.625, 1.0]}, \"yaxis3\": {\"anchor\": \"x3\", \"domain\": [0.0, 0.375]}, \"yaxis4\": {\"anchor\": \"x4\", \"domain\": [0.0, 0.375]}},\n",
              "                        {\"responsive\": true}\n",
              "                    ).then(function(){\n",
              "                            \n",
              "var gd = document.getElementById('d8d5c7b0-da8c-4594-9cf2-99607f263e04');\n",
              "var x = new MutationObserver(function (mutations, observer) {{\n",
              "        var display = window.getComputedStyle(gd).display;\n",
              "        if (!display || display === 'none') {{\n",
              "            console.log([gd, 'removed!']);\n",
              "            Plotly.purge(gd);\n",
              "            observer.disconnect();\n",
              "        }}\n",
              "}});\n",
              "\n",
              "// Listen for the removal of the full notebook cells\n",
              "var notebookContainer = gd.closest('#notebook-container');\n",
              "if (notebookContainer) {{\n",
              "    x.observe(notebookContainer, {childList: true});\n",
              "}}\n",
              "\n",
              "// Listen for the clearing of the current output cell\n",
              "var outputEl = gd.closest('.output');\n",
              "if (outputEl) {{\n",
              "    x.observe(outputEl, {childList: true});\n",
              "}}\n",
              "\n",
              "                        })\n",
              "                };\n",
              "                \n",
              "            </script>\n",
              "        </div>\n",
              "</body>\n",
              "</html>"
            ]
          },
          "metadata": {
            "tags": []
          },
          "output_type": "display_data"
        }
      ],
      "source": [
        "numerical_graph()"
      ]
    },
    {
      "cell_type": "markdown",
      "metadata": {
        "id": "I84MS59quNjc"
      },
      "source": [
        "* Si può notare che le prime tre le distribuzioni decrescono con l'aumentare dei valori, mentre per l'anno possiamo notare che più aumenta e più macchine risultano vendute.  \n",
        "Questo ci fa capire che c'è una prevalenza di mercato sulle macchine nuove rispetto a macchine di parecchi anni fa."
      ]
    },
    {
      "cell_type": "code",
      "execution_count": null,
      "metadata": {
        "id": "uA6k_5NSuwH6"
      },
      "outputs": [],
      "source": [
        "def category_graph():\n",
        "  fig = make_subplots(rows = 2, cols = 2, subplot_titles = (\"Fuel Type\", \"Seller Type\", \"Transmission\", \"Owner\"))\n",
        "\n",
        "  fig.add_trace(go.Histogram(x = data[\"Fuel_Type\"], name = \"Fuel\"), row = 1, col = 1)\n",
        "  fig.add_trace(go.Histogram(x = data[\"Seller_Type\"], name = \"Seller\"), row = 1, col = 2)\n",
        "  fig.add_trace(go.Histogram(x = data[\"Transmission\"], name = \"Transmission\"), row = 2, col = 1)\n",
        "  fig.add_trace(go.Histogram(x = data[\"Owner\"], name = \"Owner\"), row = 2, col = 2)\n",
        "  fig.show()"
      ]
    },
    {
      "cell_type": "markdown",
      "metadata": {
        "id": "-ihjbqC9QToy"
      },
      "source": [
        "* Qui di seguito invece sono riportati 4 istogrammi che analizzano la densità di frequenza, rispettivamente di `Fuel Type`, `Seller Type`, `Transmission` e `Owner`.  "
      ]
    },
    {
      "cell_type": "code",
      "execution_count": null,
      "metadata": {
        "colab": {
          "base_uri": "https://localhost:8080/"
        },
        "id": "YvWS_47aNJJd",
        "outputId": "14a30c54-70d7-4404-e0ea-f51116ed9782"
      },
      "outputs": [
        {
          "data": {
            "text/html": [
              "<html>\n",
              "<head><meta charset=\"utf-8\" /></head>\n",
              "<body>\n",
              "    <div>\n",
              "            <script src=\"https://cdnjs.cloudflare.com/ajax/libs/mathjax/2.7.5/MathJax.js?config=TeX-AMS-MML_SVG\"></script><script type=\"text/javascript\">if (window.MathJax) {MathJax.Hub.Config({SVG: {font: \"STIX-Web\"}});}</script>\n",
              "                <script type=\"text/javascript\">window.PlotlyConfig = {MathJaxConfig: 'local'};</script>\n",
              "        <script src=\"https://cdn.plot.ly/plotly-latest.min.js\"></script>    \n",
              "            <div id=\"e80a452f-a8c5-4849-973f-d35ec40376de\" class=\"plotly-graph-div\" style=\"height:525px; width:100%;\"></div>\n",
              "            <script type=\"text/javascript\">\n",
              "                \n",
              "                    window.PLOTLYENV=window.PLOTLYENV || {};\n",
              "                    \n",
              "                if (document.getElementById(\"e80a452f-a8c5-4849-973f-d35ec40376de\")) {\n",
              "                    Plotly.newPlot(\n",
              "                        'e80a452f-a8c5-4849-973f-d35ec40376de',\n",
              "                        [{\"name\": \"Fuel\", \"type\": \"histogram\", \"x\": [\"Petrol\", \"Diesel\", \"Petrol\", \"Petrol\", \"Diesel\", \"Diesel\", \"Petrol\", \"Diesel\", \"Diesel\", \"Diesel\", \"Petrol\", \"Diesel\", \"Petrol\", \"Petrol\", \"Petrol\", \"Diesel\", \"Diesel\", \"Diesel\", \"CNG\", \"Petrol\", \"Petrol\", \"Petrol\", \"Petrol\", \"Petrol\", \"Petrol\", \"Petrol\", \"Petrol\", \"Petrol\", \"Petrol\", \"Diesel\", \"Diesel\", \"Petrol\", \"Diesel\", \"Diesel\", \"Diesel\", \"CNG\", \"Petrol\", \"Petrol\", \"Petrol\", \"Petrol\", \"Petrol\", \"Petrol\", \"Petrol\", \"Diesel\", \"Petrol\", \"Petrol\", \"Petrol\", \"Petrol\", \"Petrol\", \"Petrol\", \"Diesel\", \"Diesel\", \"Diesel\", \"Diesel\", \"Petrol\", \"Petrol\", \"Petrol\", \"Petrol\", \"Petrol\", \"Diesel\", \"Petrol\", \"Petrol\", \"Diesel\", \"Diesel\", \"Diesel\", \"Diesel\", \"Petrol\", \"Diesel\", \"Petrol\", \"Petrol\", \"Diesel\", \"Diesel\", \"Petrol\", \"Petrol\", \"Diesel\", \"Petrol\", \"Petrol\", \"Petrol\", \"Petrol\", \"Diesel\", \"Diesel\", \"Diesel\", \"Diesel\", \"Diesel\", \"Diesel\", \"Petrol\", \"Diesel\", \"Petrol\", \"Petrol\", \"Petrol\", \"Petrol\", \"Diesel\", \"Petrol\", \"Diesel\", \"Petrol\", \"Petrol\", \"Diesel\", \"Petrol\", \"Petrol\", \"Diesel\", \"Petrol\", \"Petrol\", \"Petrol\", \"Petrol\", \"Petrol\", \"Petrol\", \"Petrol\", \"Petrol\", \"Petrol\", \"Petrol\", \"Petrol\", \"Petrol\", \"Petrol\", \"Petrol\", \"Petrol\", \"Petrol\", \"Petrol\", \"Petrol\", \"Petrol\", \"Petrol\", \"Petrol\", \"Petrol\", \"Petrol\", \"Petrol\", \"Petrol\", \"Petrol\", \"Petrol\", \"Petrol\", \"Petrol\", \"Petrol\", \"Petrol\", \"Petrol\", \"Petrol\", \"Petrol\", \"Petrol\", \"Petrol\", \"Petrol\", \"Petrol\", \"Petrol\", \"Petrol\", \"Petrol\", \"Petrol\", \"Petrol\", \"Petrol\", \"Petrol\", \"Petrol\", \"Petrol\", \"Petrol\", \"Petrol\", \"Petrol\", \"Petrol\", \"Petrol\", \"Petrol\", \"Petrol\", \"Petrol\", \"Petrol\", \"Petrol\", \"Petrol\", \"Petrol\", \"Petrol\", \"Petrol\", \"Petrol\", \"Petrol\", \"Petrol\", \"Petrol\", \"Petrol\", \"Petrol\", \"Petrol\", \"Petrol\", \"Petrol\", \"Petrol\", \"Petrol\", \"Petrol\", \"Petrol\", \"Petrol\", \"Petrol\", \"Petrol\", \"Petrol\", \"Petrol\", \"Petrol\", \"Petrol\", \"Petrol\", \"Petrol\", \"Petrol\", \"Petrol\", \"Petrol\", \"Petrol\", \"Petrol\", \"Petrol\", \"Petrol\", \"Petrol\", \"Petrol\", \"Petrol\", \"Petrol\", \"Petrol\", \"Petrol\", \"Petrol\", \"Petrol\", \"Petrol\", \"Petrol\", \"Petrol\", \"Diesel\", \"Petrol\", \"Petrol\", \"Petrol\", \"Petrol\", \"Petrol\", \"Petrol\", \"Petrol\", \"Diesel\", \"Petrol\", \"Diesel\", \"Petrol\", \"Petrol\", \"Petrol\", \"Petrol\", \"Petrol\", \"Petrol\", \"Petrol\", \"Petrol\", \"Petrol\", \"Petrol\", \"Diesel\", \"Diesel\", \"Petrol\", \"Petrol\", \"Petrol\", \"Petrol\", \"Diesel\", \"Diesel\", \"Diesel\", \"Petrol\", \"Petrol\", \"Diesel\", \"Petrol\", \"Petrol\", \"Petrol\", \"Diesel\", \"Petrol\", \"Petrol\", \"Diesel\", \"Petrol\", \"Petrol\", \"Petrol\", \"Diesel\", \"Diesel\", \"Petrol\", \"Petrol\", \"Petrol\", \"Petrol\", \"Diesel\", \"Petrol\", \"Petrol\", \"Diesel\", \"Petrol\", \"Petrol\", \"Petrol\", \"Petrol\", \"Petrol\", \"Petrol\", \"Petrol\", \"Petrol\", \"Petrol\", \"Petrol\", \"Petrol\", \"Petrol\", \"Petrol\", \"Diesel\", \"Petrol\", \"Petrol\", \"Petrol\", \"Petrol\", \"Petrol\", \"Petrol\", \"Petrol\", \"Petrol\", \"Petrol\", \"Petrol\", \"Petrol\", \"Petrol\", \"Petrol\", \"Petrol\", \"Diesel\", \"Petrol\", \"Petrol\", \"Petrol\", \"Petrol\", \"Petrol\", \"Petrol\", \"Petrol\", \"Petrol\", \"Petrol\", \"Petrol\", \"Petrol\", \"Petrol\", \"Diesel\", \"Diesel\", \"Petrol\", \"Petrol\", \"Diesel\", \"Petrol\"], \"xaxis\": \"x\", \"yaxis\": \"y\"}, {\"name\": \"Seller\", \"type\": \"histogram\", \"x\": [\"Dealer\", \"Dealer\", \"Dealer\", \"Dealer\", \"Dealer\", \"Dealer\", \"Dealer\", \"Dealer\", \"Dealer\", \"Dealer\", \"Dealer\", \"Dealer\", \"Dealer\", \"Dealer\", \"Dealer\", \"Dealer\", \"Dealer\", \"Dealer\", \"Dealer\", \"Dealer\", \"Dealer\", \"Dealer\", \"Dealer\", \"Dealer\", \"Dealer\", \"Dealer\", \"Dealer\", \"Individual\", \"Dealer\", \"Dealer\", \"Dealer\", \"Dealer\", \"Dealer\", \"Dealer\", \"Dealer\", \"Dealer\", \"Dealer\", \"Individual\", \"Dealer\", \"Dealer\", \"Dealer\", \"Dealer\", \"Dealer\", \"Dealer\", \"Dealer\", \"Dealer\", \"Dealer\", \"Dealer\", \"Dealer\", \"Dealer\", \"Dealer\", \"Dealer\", \"Dealer\", \"Individual\", \"Individual\", \"Dealer\", \"Dealer\", \"Dealer\", \"Dealer\", \"Dealer\", \"Dealer\", \"Dealer\", \"Dealer\", \"Dealer\", \"Dealer\", \"Dealer\", \"Dealer\", \"Dealer\", \"Dealer\", \"Dealer\", \"Dealer\", \"Dealer\", \"Dealer\", \"Dealer\", \"Dealer\", \"Dealer\", \"Dealer\", \"Dealer\", \"Dealer\", \"Dealer\", \"Dealer\", \"Dealer\", \"Dealer\", \"Dealer\", \"Dealer\", \"Individual\", \"Dealer\", \"Dealer\", \"Dealer\", \"Dealer\", \"Dealer\", \"Dealer\", \"Dealer\", \"Dealer\", \"Dealer\", \"Dealer\", \"Dealer\", \"Dealer\", \"Dealer\", \"Dealer\", \"Individual\", \"Individual\", \"Individual\", \"Individual\", \"Individual\", \"Individual\", \"Individual\", \"Individual\", \"Individual\", \"Individual\", \"Individual\", \"Individual\", \"Individual\", \"Individual\", \"Individual\", \"Individual\", \"Individual\", \"Individual\", \"Individual\", \"Individual\", \"Individual\", \"Individual\", \"Individual\", \"Individual\", \"Individual\", \"Individual\", \"Individual\", \"Individual\", \"Individual\", \"Individual\", \"Individual\", \"Individual\", \"Individual\", \"Individual\", \"Individual\", \"Individual\", \"Individual\", \"Individual\", \"Individual\", \"Individual\", \"Individual\", \"Individual\", \"Individual\", \"Individual\", \"Individual\", \"Individual\", \"Individual\", \"Individual\", \"Individual\", \"Individual\", \"Individual\", \"Individual\", \"Individual\", \"Individual\", \"Individual\", \"Individual\", \"Individual\", \"Individual\", \"Individual\", \"Individual\", \"Individual\", \"Individual\", \"Individual\", \"Individual\", \"Individual\", \"Individual\", \"Individual\", \"Individual\", \"Individual\", \"Individual\", \"Individual\", \"Individual\", \"Individual\", \"Individual\", \"Individual\", \"Individual\", \"Individual\", \"Individual\", \"Individual\", \"Individual\", \"Individual\", \"Individual\", \"Individual\", \"Individual\", \"Individual\", \"Individual\", \"Individual\", \"Individual\", \"Individual\", \"Individual\", \"Individual\", \"Individual\", \"Individual\", \"Individual\", \"Individual\", \"Individual\", \"Individual\", \"Individual\", \"Individual\", \"Individual\", \"Individual\", \"Dealer\", \"Dealer\", \"Dealer\", \"Dealer\", \"Dealer\", \"Dealer\", \"Dealer\", \"Dealer\", \"Dealer\", \"Dealer\", \"Dealer\", \"Dealer\", \"Dealer\", \"Dealer\", \"Dealer\", \"Dealer\", \"Dealer\", \"Dealer\", \"Dealer\", \"Dealer\", \"Dealer\", \"Dealer\", \"Dealer\", \"Dealer\", \"Dealer\", \"Dealer\", \"Dealer\", \"Dealer\", \"Dealer\", \"Dealer\", \"Dealer\", \"Dealer\", \"Dealer\", \"Dealer\", \"Dealer\", \"Dealer\", \"Dealer\", \"Dealer\", \"Dealer\", \"Dealer\", \"Dealer\", \"Dealer\", \"Dealer\", \"Dealer\", \"Dealer\", \"Dealer\", \"Dealer\", \"Dealer\", \"Dealer\", \"Dealer\", \"Dealer\", \"Dealer\", \"Dealer\", \"Dealer\", \"Dealer\", \"Dealer\", \"Dealer\", \"Dealer\", \"Dealer\", \"Dealer\", \"Dealer\", \"Dealer\", \"Dealer\", \"Dealer\", \"Dealer\", \"Dealer\", \"Dealer\", \"Dealer\", \"Dealer\", \"Dealer\", \"Dealer\", \"Dealer\", \"Dealer\", \"Dealer\", \"Dealer\", \"Dealer\", \"Dealer\", \"Dealer\", \"Dealer\", \"Dealer\", \"Dealer\", \"Dealer\", \"Dealer\", \"Dealer\", \"Dealer\", \"Dealer\", \"Dealer\", \"Dealer\", \"Dealer\", \"Dealer\", \"Dealer\", \"Dealer\", \"Dealer\", \"Dealer\", \"Dealer\", \"Dealer\", \"Dealer\", \"Dealer\", \"Dealer\", \"Dealer\"], \"xaxis\": \"x2\", \"yaxis\": \"y2\"}, {\"name\": \"Transmission\", \"type\": \"histogram\", \"x\": [\"Manual\", \"Manual\", \"Manual\", \"Manual\", \"Manual\", \"Manual\", \"Manual\", \"Manual\", \"Manual\", \"Manual\", \"Manual\", \"Manual\", \"Automatic\", \"Manual\", \"Manual\", \"Manual\", \"Manual\", \"Manual\", \"Manual\", \"Manual\", \"Manual\", \"Manual\", \"Automatic\", \"Manual\", \"Manual\", \"Manual\", \"Manual\", \"Manual\", \"Manual\", \"Manual\", \"Manual\", \"Manual\", \"Manual\", \"Manual\", \"Manual\", \"Manual\", \"Manual\", \"Manual\", \"Manual\", \"Manual\", \"Automatic\", \"Manual\", \"Manual\", \"Manual\", \"Manual\", \"Automatic\", \"Manual\", \"Manual\", \"Manual\", \"Automatic\", \"Automatic\", \"Automatic\", \"Automatic\", \"Automatic\", \"Manual\", \"Automatic\", \"Manual\", \"Manual\", \"Manual\", \"Automatic\", \"Manual\", \"Manual\", \"Automatic\", \"Automatic\", \"Automatic\", \"Manual\", \"Automatic\", \"Manual\", \"Manual\", \"Manual\", \"Manual\", \"Manual\", \"Manual\", \"Manual\", \"Manual\", \"Manual\", \"Manual\", \"Automatic\", \"Automatic\", \"Automatic\", \"Manual\", \"Manual\", \"Automatic\", \"Manual\", \"Manual\", \"Automatic\", \"Manual\", \"Manual\", \"Manual\", \"Manual\", \"Manual\", \"Manual\", \"Manual\", \"Automatic\", \"Automatic\", \"Manual\", \"Automatic\", \"Manual\", \"Manual\", \"Manual\", \"Manual\", \"Manual\", \"Manual\", \"Manual\", \"Manual\", \"Manual\", \"Manual\", \"Manual\", \"Manual\", \"Manual\", \"Manual\", \"Manual\", \"Manual\", \"Manual\", \"Manual\", \"Manual\", \"Manual\", \"Manual\", \"Manual\", \"Manual\", \"Manual\", \"Manual\", \"Manual\", \"Manual\", \"Manual\", \"Manual\", \"Manual\", \"Manual\", \"Manual\", \"Manual\", \"Manual\", \"Manual\", \"Manual\", \"Manual\", \"Manual\", \"Manual\", \"Manual\", \"Manual\", \"Manual\", \"Manual\", \"Manual\", \"Manual\", \"Manual\", \"Manual\", \"Manual\", \"Manual\", \"Manual\", \"Manual\", \"Manual\", \"Manual\", \"Manual\", \"Manual\", \"Manual\", \"Manual\", \"Manual\", \"Automatic\", \"Manual\", \"Manual\", \"Manual\", \"Automatic\", \"Manual\", \"Manual\", \"Manual\", \"Manual\", \"Manual\", \"Automatic\", \"Manual\", \"Manual\", \"Manual\", \"Manual\", \"Manual\", \"Manual\", \"Manual\", \"Automatic\", \"Manual\", \"Manual\", \"Manual\", \"Automatic\", \"Automatic\", \"Manual\", \"Manual\", \"Manual\", \"Manual\", \"Manual\", \"Manual\", \"Automatic\", \"Automatic\", \"Manual\", \"Manual\", \"Manual\", \"Manual\", \"Manual\", \"Manual\", \"Manual\", \"Manual\", \"Manual\", \"Automatic\", \"Manual\", \"Manual\", \"Manual\", \"Manual\", \"Manual\", \"Manual\", \"Manual\", \"Manual\", \"Manual\", \"Manual\", \"Automatic\", \"Manual\", \"Manual\", \"Manual\", \"Manual\", \"Manual\", \"Manual\", \"Manual\", \"Manual\", \"Manual\", \"Manual\", \"Manual\", \"Manual\", \"Manual\", \"Automatic\", \"Manual\", \"Manual\", \"Automatic\", \"Manual\", \"Manual\", \"Manual\", \"Manual\", \"Manual\", \"Manual\", \"Manual\", \"Automatic\", \"Manual\", \"Manual\", \"Manual\", \"Manual\", \"Manual\", \"Manual\", \"Manual\", \"Manual\", \"Manual\", \"Manual\", \"Manual\", \"Manual\", \"Manual\", \"Manual\", \"Manual\", \"Manual\", \"Manual\", \"Manual\", \"Manual\", \"Automatic\", \"Manual\", \"Manual\", \"Manual\", \"Manual\", \"Manual\", \"Manual\", \"Manual\", \"Manual\", \"Manual\", \"Manual\", \"Manual\", \"Manual\", \"Manual\", \"Manual\", \"Manual\", \"Manual\", \"Manual\", \"Manual\", \"Manual\", \"Manual\", \"Manual\", \"Manual\", \"Automatic\", \"Manual\", \"Manual\", \"Manual\", \"Manual\", \"Manual\", \"Manual\", \"Manual\", \"Manual\", \"Manual\", \"Automatic\", \"Manual\", \"Automatic\", \"Manual\", \"Manual\", \"Manual\", \"Manual\", \"Manual\", \"Manual\", \"Manual\", \"Manual\", \"Manual\", \"Manual\", \"Manual\", \"Manual\", \"Manual\"], \"xaxis\": \"x3\", \"yaxis\": \"y3\"}, {\"name\": \"Owner\", \"type\": \"histogram\", \"x\": [0, 0, 0, 0, 0, 0, 0, 0, 0, 0, 0, 0, 0, 0, 0, 0, 0, 0, 0, 0, 0, 0, 0, 0, 0, 0, 0, 0, 0, 0, 0, 0, 0, 0, 0, 0, 0, 0, 0, 0, 0, 0, 0, 0, 0, 0, 0, 0, 0, 0, 0, 0, 0, 0, 0, 0, 0, 0, 1, 0, 0, 0, 0, 0, 0, 0, 0, 0, 0, 0, 0, 0, 0, 0, 0, 0, 0, 0, 0, 0, 0, 0, 0, 0, 0, 3, 0, 0, 0, 0, 0, 0, 0, 0, 0, 0, 0, 0, 0, 0, 0, 0, 0, 0, 0, 0, 1, 0, 0, 0, 0, 0, 0, 0, 0, 0, 0, 0, 0, 0, 0, 0, 0, 0, 0, 0, 0, 0, 0, 0, 0, 0, 0, 0, 0, 0, 0, 0, 0, 0, 0, 0, 0, 0, 0, 0, 0, 0, 0, 0, 0, 0, 0, 0, 0, 0, 0, 0, 0, 0, 0, 0, 0, 0, 0, 0, 0, 0, 0, 0, 0, 0, 0, 0, 0, 0, 0, 0, 0, 0, 0, 0, 0, 0, 1, 0, 0, 0, 0, 0, 0, 1, 1, 1, 0, 0, 0, 0, 1, 0, 0, 1, 0, 0, 0, 1, 0, 0, 0, 0, 0, 0, 0, 0, 0, 0, 0, 0, 0, 0, 0, 0, 0, 0, 0, 0, 0, 0, 0, 0, 0, 0, 0, 0, 0, 0, 0, 0, 0, 0, 0, 1, 0, 0, 0, 0, 0, 0, 0, 0, 0, 0, 0, 0, 0, 0, 0, 0, 0, 0, 0, 0, 0, 0, 0, 0, 0, 0, 0, 0, 0, 0, 0, 0, 0, 0, 0, 0, 0, 0, 0, 0, 0, 0, 0, 0, 0, 0, 0, 0, 0, 0, 0, 0, 0, 0, 0, 0, 0, 0, 0], \"xaxis\": \"x4\", \"yaxis\": \"y4\"}],\n",
              "                        {\"annotations\": [{\"font\": {\"size\": 16}, \"showarrow\": false, \"text\": \"Fuel Type\", \"x\": 0.225, \"xanchor\": \"center\", \"xref\": \"paper\", \"y\": 1.0, \"yanchor\": \"bottom\", \"yref\": \"paper\"}, {\"font\": {\"size\": 16}, \"showarrow\": false, \"text\": \"Seller Type\", \"x\": 0.775, \"xanchor\": \"center\", \"xref\": \"paper\", \"y\": 1.0, \"yanchor\": \"bottom\", \"yref\": \"paper\"}, {\"font\": {\"size\": 16}, \"showarrow\": false, \"text\": \"Transmission\", \"x\": 0.225, \"xanchor\": \"center\", \"xref\": \"paper\", \"y\": 0.375, \"yanchor\": \"bottom\", \"yref\": \"paper\"}, {\"font\": {\"size\": 16}, \"showarrow\": false, \"text\": \"Owner\", \"x\": 0.775, \"xanchor\": \"center\", \"xref\": \"paper\", \"y\": 0.375, \"yanchor\": \"bottom\", \"yref\": \"paper\"}], \"template\": {\"data\": {\"bar\": [{\"error_x\": {\"color\": \"#2a3f5f\"}, \"error_y\": {\"color\": \"#2a3f5f\"}, \"marker\": {\"line\": {\"color\": \"#E5ECF6\", \"width\": 0.5}}, \"type\": \"bar\"}], \"barpolar\": [{\"marker\": {\"line\": {\"color\": \"#E5ECF6\", \"width\": 0.5}}, \"type\": \"barpolar\"}], \"carpet\": [{\"aaxis\": {\"endlinecolor\": \"#2a3f5f\", \"gridcolor\": \"white\", \"linecolor\": \"white\", \"minorgridcolor\": \"white\", \"startlinecolor\": \"#2a3f5f\"}, \"baxis\": {\"endlinecolor\": \"#2a3f5f\", \"gridcolor\": \"white\", \"linecolor\": \"white\", \"minorgridcolor\": \"white\", \"startlinecolor\": \"#2a3f5f\"}, \"type\": \"carpet\"}], \"choropleth\": [{\"colorbar\": {\"outlinewidth\": 0, \"ticks\": \"\"}, \"type\": \"choropleth\"}], \"contour\": [{\"colorbar\": {\"outlinewidth\": 0, \"ticks\": \"\"}, \"colorscale\": [[0.0, \"#0d0887\"], [0.1111111111111111, \"#46039f\"], [0.2222222222222222, \"#7201a8\"], [0.3333333333333333, \"#9c179e\"], [0.4444444444444444, \"#bd3786\"], [0.5555555555555556, \"#d8576b\"], [0.6666666666666666, \"#ed7953\"], [0.7777777777777778, \"#fb9f3a\"], [0.8888888888888888, \"#fdca26\"], [1.0, \"#f0f921\"]], \"type\": \"contour\"}], \"contourcarpet\": [{\"colorbar\": {\"outlinewidth\": 0, \"ticks\": \"\"}, \"type\": \"contourcarpet\"}], \"heatmap\": [{\"colorbar\": {\"outlinewidth\": 0, \"ticks\": \"\"}, \"colorscale\": [[0.0, \"#0d0887\"], [0.1111111111111111, \"#46039f\"], [0.2222222222222222, \"#7201a8\"], [0.3333333333333333, \"#9c179e\"], [0.4444444444444444, \"#bd3786\"], [0.5555555555555556, \"#d8576b\"], [0.6666666666666666, \"#ed7953\"], [0.7777777777777778, \"#fb9f3a\"], [0.8888888888888888, \"#fdca26\"], [1.0, \"#f0f921\"]], \"type\": \"heatmap\"}], \"heatmapgl\": [{\"colorbar\": {\"outlinewidth\": 0, \"ticks\": \"\"}, \"colorscale\": [[0.0, \"#0d0887\"], [0.1111111111111111, \"#46039f\"], [0.2222222222222222, \"#7201a8\"], [0.3333333333333333, \"#9c179e\"], [0.4444444444444444, \"#bd3786\"], [0.5555555555555556, \"#d8576b\"], [0.6666666666666666, \"#ed7953\"], [0.7777777777777778, \"#fb9f3a\"], [0.8888888888888888, \"#fdca26\"], [1.0, \"#f0f921\"]], \"type\": \"heatmapgl\"}], \"histogram\": [{\"marker\": {\"colorbar\": {\"outlinewidth\": 0, \"ticks\": \"\"}}, \"type\": \"histogram\"}], \"histogram2d\": [{\"colorbar\": {\"outlinewidth\": 0, \"ticks\": \"\"}, \"colorscale\": [[0.0, \"#0d0887\"], [0.1111111111111111, \"#46039f\"], [0.2222222222222222, \"#7201a8\"], [0.3333333333333333, \"#9c179e\"], [0.4444444444444444, \"#bd3786\"], [0.5555555555555556, \"#d8576b\"], [0.6666666666666666, \"#ed7953\"], [0.7777777777777778, \"#fb9f3a\"], [0.8888888888888888, \"#fdca26\"], [1.0, \"#f0f921\"]], \"type\": \"histogram2d\"}], \"histogram2dcontour\": [{\"colorbar\": {\"outlinewidth\": 0, \"ticks\": \"\"}, \"colorscale\": [[0.0, \"#0d0887\"], [0.1111111111111111, \"#46039f\"], [0.2222222222222222, \"#7201a8\"], [0.3333333333333333, \"#9c179e\"], [0.4444444444444444, \"#bd3786\"], [0.5555555555555556, \"#d8576b\"], [0.6666666666666666, \"#ed7953\"], [0.7777777777777778, \"#fb9f3a\"], [0.8888888888888888, \"#fdca26\"], [1.0, \"#f0f921\"]], \"type\": \"histogram2dcontour\"}], \"mesh3d\": [{\"colorbar\": {\"outlinewidth\": 0, \"ticks\": \"\"}, \"type\": \"mesh3d\"}], \"parcoords\": [{\"line\": {\"colorbar\": {\"outlinewidth\": 0, \"ticks\": \"\"}}, \"type\": \"parcoords\"}], \"pie\": [{\"automargin\": true, \"type\": \"pie\"}], \"scatter\": [{\"marker\": {\"colorbar\": {\"outlinewidth\": 0, \"ticks\": \"\"}}, \"type\": \"scatter\"}], \"scatter3d\": [{\"line\": {\"colorbar\": {\"outlinewidth\": 0, \"ticks\": \"\"}}, \"marker\": {\"colorbar\": {\"outlinewidth\": 0, \"ticks\": \"\"}}, \"type\": \"scatter3d\"}], \"scattercarpet\": [{\"marker\": {\"colorbar\": {\"outlinewidth\": 0, \"ticks\": \"\"}}, \"type\": \"scattercarpet\"}], \"scattergeo\": [{\"marker\": {\"colorbar\": {\"outlinewidth\": 0, \"ticks\": \"\"}}, \"type\": \"scattergeo\"}], \"scattergl\": [{\"marker\": {\"colorbar\": {\"outlinewidth\": 0, \"ticks\": \"\"}}, \"type\": \"scattergl\"}], \"scattermapbox\": [{\"marker\": {\"colorbar\": {\"outlinewidth\": 0, \"ticks\": \"\"}}, \"type\": \"scattermapbox\"}], \"scatterpolar\": [{\"marker\": {\"colorbar\": {\"outlinewidth\": 0, \"ticks\": \"\"}}, \"type\": \"scatterpolar\"}], \"scatterpolargl\": [{\"marker\": {\"colorbar\": {\"outlinewidth\": 0, \"ticks\": \"\"}}, \"type\": \"scatterpolargl\"}], \"scatterternary\": [{\"marker\": {\"colorbar\": {\"outlinewidth\": 0, \"ticks\": \"\"}}, \"type\": \"scatterternary\"}], \"surface\": [{\"colorbar\": {\"outlinewidth\": 0, \"ticks\": \"\"}, \"colorscale\": [[0.0, \"#0d0887\"], [0.1111111111111111, \"#46039f\"], [0.2222222222222222, \"#7201a8\"], [0.3333333333333333, \"#9c179e\"], [0.4444444444444444, \"#bd3786\"], [0.5555555555555556, \"#d8576b\"], [0.6666666666666666, \"#ed7953\"], [0.7777777777777778, \"#fb9f3a\"], [0.8888888888888888, \"#fdca26\"], [1.0, \"#f0f921\"]], \"type\": \"surface\"}], \"table\": [{\"cells\": {\"fill\": {\"color\": \"#EBF0F8\"}, \"line\": {\"color\": \"white\"}}, \"header\": {\"fill\": {\"color\": \"#C8D4E3\"}, \"line\": {\"color\": \"white\"}}, \"type\": \"table\"}]}, \"layout\": {\"annotationdefaults\": {\"arrowcolor\": \"#2a3f5f\", \"arrowhead\": 0, \"arrowwidth\": 1}, \"coloraxis\": {\"colorbar\": {\"outlinewidth\": 0, \"ticks\": \"\"}}, \"colorscale\": {\"diverging\": [[0, \"#8e0152\"], [0.1, \"#c51b7d\"], [0.2, \"#de77ae\"], [0.3, \"#f1b6da\"], [0.4, \"#fde0ef\"], [0.5, \"#f7f7f7\"], [0.6, \"#e6f5d0\"], [0.7, \"#b8e186\"], [0.8, \"#7fbc41\"], [0.9, \"#4d9221\"], [1, \"#276419\"]], \"sequential\": [[0.0, \"#0d0887\"], [0.1111111111111111, \"#46039f\"], [0.2222222222222222, \"#7201a8\"], [0.3333333333333333, \"#9c179e\"], [0.4444444444444444, \"#bd3786\"], [0.5555555555555556, \"#d8576b\"], [0.6666666666666666, \"#ed7953\"], [0.7777777777777778, \"#fb9f3a\"], [0.8888888888888888, \"#fdca26\"], [1.0, \"#f0f921\"]], \"sequentialminus\": [[0.0, \"#0d0887\"], [0.1111111111111111, \"#46039f\"], [0.2222222222222222, \"#7201a8\"], [0.3333333333333333, \"#9c179e\"], [0.4444444444444444, \"#bd3786\"], [0.5555555555555556, \"#d8576b\"], [0.6666666666666666, \"#ed7953\"], [0.7777777777777778, \"#fb9f3a\"], [0.8888888888888888, \"#fdca26\"], [1.0, \"#f0f921\"]]}, \"colorway\": [\"#636efa\", \"#EF553B\", \"#00cc96\", \"#ab63fa\", \"#FFA15A\", \"#19d3f3\", \"#FF6692\", \"#B6E880\", \"#FF97FF\", \"#FECB52\"], \"font\": {\"color\": \"#2a3f5f\"}, \"geo\": {\"bgcolor\": \"white\", \"lakecolor\": \"white\", \"landcolor\": \"#E5ECF6\", \"showlakes\": true, \"showland\": true, \"subunitcolor\": \"white\"}, \"hoverlabel\": {\"align\": \"left\"}, \"hovermode\": \"closest\", \"mapbox\": {\"style\": \"light\"}, \"paper_bgcolor\": \"white\", \"plot_bgcolor\": \"#E5ECF6\", \"polar\": {\"angularaxis\": {\"gridcolor\": \"white\", \"linecolor\": \"white\", \"ticks\": \"\"}, \"bgcolor\": \"#E5ECF6\", \"radialaxis\": {\"gridcolor\": \"white\", \"linecolor\": \"white\", \"ticks\": \"\"}}, \"scene\": {\"xaxis\": {\"backgroundcolor\": \"#E5ECF6\", \"gridcolor\": \"white\", \"gridwidth\": 2, \"linecolor\": \"white\", \"showbackground\": true, \"ticks\": \"\", \"zerolinecolor\": \"white\"}, \"yaxis\": {\"backgroundcolor\": \"#E5ECF6\", \"gridcolor\": \"white\", \"gridwidth\": 2, \"linecolor\": \"white\", \"showbackground\": true, \"ticks\": \"\", \"zerolinecolor\": \"white\"}, \"zaxis\": {\"backgroundcolor\": \"#E5ECF6\", \"gridcolor\": \"white\", \"gridwidth\": 2, \"linecolor\": \"white\", \"showbackground\": true, \"ticks\": \"\", \"zerolinecolor\": \"white\"}}, \"shapedefaults\": {\"line\": {\"color\": \"#2a3f5f\"}}, \"ternary\": {\"aaxis\": {\"gridcolor\": \"white\", \"linecolor\": \"white\", \"ticks\": \"\"}, \"baxis\": {\"gridcolor\": \"white\", \"linecolor\": \"white\", \"ticks\": \"\"}, \"bgcolor\": \"#E5ECF6\", \"caxis\": {\"gridcolor\": \"white\", \"linecolor\": \"white\", \"ticks\": \"\"}}, \"title\": {\"x\": 0.05}, \"xaxis\": {\"automargin\": true, \"gridcolor\": \"white\", \"linecolor\": \"white\", \"ticks\": \"\", \"title\": {\"standoff\": 15}, \"zerolinecolor\": \"white\", \"zerolinewidth\": 2}, \"yaxis\": {\"automargin\": true, \"gridcolor\": \"white\", \"linecolor\": \"white\", \"ticks\": \"\", \"title\": {\"standoff\": 15}, \"zerolinecolor\": \"white\", \"zerolinewidth\": 2}}}, \"xaxis\": {\"anchor\": \"y\", \"domain\": [0.0, 0.45]}, \"xaxis2\": {\"anchor\": \"y2\", \"domain\": [0.55, 1.0]}, \"xaxis3\": {\"anchor\": \"y3\", \"domain\": [0.0, 0.45]}, \"xaxis4\": {\"anchor\": \"y4\", \"domain\": [0.55, 1.0]}, \"yaxis\": {\"anchor\": \"x\", \"domain\": [0.625, 1.0]}, \"yaxis2\": {\"anchor\": \"x2\", \"domain\": [0.625, 1.0]}, \"yaxis3\": {\"anchor\": \"x3\", \"domain\": [0.0, 0.375]}, \"yaxis4\": {\"anchor\": \"x4\", \"domain\": [0.0, 0.375]}},\n",
              "                        {\"responsive\": true}\n",
              "                    ).then(function(){\n",
              "                            \n",
              "var gd = document.getElementById('e80a452f-a8c5-4849-973f-d35ec40376de');\n",
              "var x = new MutationObserver(function (mutations, observer) {{\n",
              "        var display = window.getComputedStyle(gd).display;\n",
              "        if (!display || display === 'none') {{\n",
              "            console.log([gd, 'removed!']);\n",
              "            Plotly.purge(gd);\n",
              "            observer.disconnect();\n",
              "        }}\n",
              "}});\n",
              "\n",
              "// Listen for the removal of the full notebook cells\n",
              "var notebookContainer = gd.closest('#notebook-container');\n",
              "if (notebookContainer) {{\n",
              "    x.observe(notebookContainer, {childList: true});\n",
              "}}\n",
              "\n",
              "// Listen for the clearing of the current output cell\n",
              "var outputEl = gd.closest('.output');\n",
              "if (outputEl) {{\n",
              "    x.observe(outputEl, {childList: true});\n",
              "}}\n",
              "\n",
              "                        })\n",
              "                };\n",
              "                \n",
              "            </script>\n",
              "        </div>\n",
              "</body>\n",
              "</html>"
            ]
          },
          "metadata": {
            "tags": []
          },
          "output_type": "display_data"
        }
      ],
      "source": [
        "category_graph()"
      ]
    },
    {
      "cell_type": "markdown",
      "metadata": {
        "id": "3k7uURYOvSi0"
      },
      "source": [
        "*   Per la tipologia di carburante abbiamo solo 2 casi di CNG e dunque possiamo eliminare quelle due auto dal DataFrame dato che l'incidenza non sarebbe rilevante.\n",
        "*   Gran parte delle auto si avvicinano sia per Venditore che Cambio\n",
        "*   L'Owner essendo praticamente sempre sullo 0 anche in questo caso, ci fa pensare che non potrà incidere particolarmente sulla predizione del Selling Price.\n",
        "\n"
      ]
    },
    {
      "cell_type": "markdown",
      "metadata": {
        "id": "dlXU9chL1FjN"
      },
      "source": [
        "Rimuoviamo quindi le auto con carburante CNG."
      ]
    },
    {
      "cell_type": "code",
      "execution_count": null,
      "metadata": {
        "id": "RS2qFZB6030H"
      },
      "outputs": [],
      "source": [
        "data = data[data['Fuel_Type'] != \"CNG\"]"
      ]
    },
    {
      "cell_type": "markdown",
      "metadata": {
        "id": "jz9RukAD1XWp"
      },
      "source": [
        "### Esplorazione e analisi delle correlazioni tra feature"
      ]
    },
    {
      "cell_type": "markdown",
      "metadata": {
        "id": "KjLSmgAo1Lg2"
      },
      "source": [
        "A questo punto vediamo i grafici di dispersione di Selling Price e Present Price sulla base delle feature categoriche, in questo caso la tipologia di cambio (Manuale o Automatico), la tipologia di carburante (Diesel o Petrol) e la tipologia di venditore (Privato o Concessionaria)."
      ]
    },
    {
      "cell_type": "code",
      "execution_count": null,
      "metadata": {
        "id": "HXGE4f_ezaC7"
      },
      "outputs": [],
      "source": [
        "def create_plot(first, second, value):\n",
        "  time_colors = {first: \"red\", second: \"blue\"}\n",
        "  p = data.plot.scatter(\"Present_Price\",\n",
        "                    \"Selling_Price\",\n",
        "                    c = data[value].map(time_colors));\n",
        "  return p"
      ]
    },
    {
      "cell_type": "code",
      "execution_count": null,
      "metadata": {
        "colab": {
          "base_uri": "https://localhost:8080/"
        },
        "id": "ghEG4lBIw-pp",
        "outputId": "a7148823-275e-4ed4-eb89-511d812cba73"
      },
      "outputs": [
        {
          "data": {
            "text/plain": [
              "<matplotlib.axes._subplots.AxesSubplot at 0x7f8b0c0ce8d0>"
            ]
          },
          "execution_count": 17,
          "metadata": {
            "tags": []
          },
          "output_type": "execute_result"
        },
        {
          "data": {
            "image/png": "[encoded data removed]",
            "text/plain": [
              "<Figure size 432x288 with 1 Axes>"
            ]
          },
          "metadata": {
            "needs_background": "light",
            "tags": []
          },
          "output_type": "display_data"
        }
      ],
      "source": [
        "create_plot(\"Manual\", \"Automatic\", \"Transmission\")"
      ]
    },
    {
      "cell_type": "code",
      "execution_count": null,
      "metadata": {
        "colab": {
          "base_uri": "https://localhost:8080/"
        },
        "id": "xpflfHoe0k1_",
        "outputId": "a2d1554f-75c0-4157-81b6-6f4855684023"
      },
      "outputs": [
        {
          "data": {
            "text/plain": [
              "<matplotlib.axes._subplots.AxesSubplot at 0x7f8b0bfd60d0>"
            ]
          },
          "execution_count": 18,
          "metadata": {
            "tags": []
          },
          "output_type": "execute_result"
        },
        {
          "data": {
            "image/png": "[encoded data removed]",
            "text/plain": [
              "<Figure size 432x288 with 1 Axes>"
            ]
          },
          "metadata": {
            "needs_background": "light",
            "tags": []
          },
          "output_type": "display_data"
        }
      ],
      "source": [
        "create_plot(\"Diesel\", \"Petrol\", \"Fuel_Type\")"
      ]
    },
    {
      "cell_type": "code",
      "execution_count": null,
      "metadata": {
        "colab": {
          "base_uri": "https://localhost:8080/"
        },
        "id": "cQAbHFH91mfO",
        "outputId": "5464da59-2602-4c3b-8f74-f634d54a2f54"
      },
      "outputs": [
        {
          "data": {
            "text/plain": [
              "<matplotlib.axes._subplots.AxesSubplot at 0x7f8b0bb17c10>"
            ]
          },
          "execution_count": 19,
          "metadata": {
            "tags": []
          },
          "output_type": "execute_result"
        },
        {
          "data": {
            "image/png": "[encoded data removed]",
            "text/plain": [
              "<Figure size 432x288 with 1 Axes>"
            ]
          },
          "metadata": {
            "needs_background": "light",
            "tags": []
          },
          "output_type": "display_data"
        }
      ],
      "source": [
        "create_plot(\"Individual\", \"Dealer\", \"Seller_Type\")"
      ]
    },
    {
      "cell_type": "markdown",
      "metadata": {
        "id": "DJfaPmCy2Dxl"
      },
      "source": [
        "In conclusione all'analisi dei grafici possiamo vedere che:\n",
        "\n",
        "* Le macchine con un prezzo tendenzialmente più alto sono vendute da un concessionario, hanno come carburante il Diesel e come cambio Automatico.\n",
        "\n",
        "* Le macchine con un prezzo tendenzialmente più basso sono vendute da un privato, hanno come carburante il Benzina e come cambio Manuale.\n"
      ]
    },
    {
      "cell_type": "markdown",
      "metadata": {
        "id": "_5o5EUVQ3gw4"
      },
      "source": [
        "# Parte 2 - Preparazione del modello\n",
        "\n",
        "In questa fase il nostro obiettivo è quello di riorganizzare il Dataset, eliminare le parti non necessarie e poi creare Training e Validation set. Successivamente studieremo la correlazione tra variabili."
      ]
    },
    {
      "cell_type": "markdown",
      "metadata": {
        "id": "ztAWwAW84d8T"
      },
      "source": [
        "### Riorganizzazione dei dati"
      ]
    },
    {
      "cell_type": "markdown",
      "metadata": {
        "id": "o5uZDG9t4lJ5"
      },
      "source": [
        "* Come vediamo la colonna dei nomi delle automobili non è necessaria, ma per eventuali modifiche, creiamo un vettore corrispondente agli indici del nostro Dataset, con il quale sarà poi possibile ricavare i nomi in un secondo momento."
      ]
    },
    {
      "cell_type": "code",
      "execution_count": null,
      "metadata": {
        "id": "yFhUQ_R64zAe"
      },
      "outputs": [],
      "source": [
        "car_names = data[\"Car_Name\"]\n",
        "data = data.drop(columns = \"Car_Name\")"
      ]
    },
    {
      "cell_type": "markdown",
      "metadata": {
        "id": "CCmPKzvd_fGq"
      },
      "source": [
        "*   Dato che l'anno dell'automobile non è generalizzato, modifichiamo quest'ultimo aggiungendo l'età rispettiva.\n"
      ]
    },
    {
      "cell_type": "code",
      "execution_count": null,
      "metadata": {
        "id": "jAqLF4Yw-w1G"
      },
      "outputs": [],
      "source": [
        "data[\"Car_Age\"] = 2021 - data[\"Year\"] \n",
        "data = data.drop(columns = \"Year\")"
      ]
    },
    {
      "cell_type": "markdown",
      "metadata": {
        "id": "Lm8PvrQZAh1P"
      },
      "source": [
        "* Per convertire tutte le colonne categoriche usiamo una funzione di pandas `get_dummies` che ci permette di suddividerle in diverse colonne facilitandoci la fase di correlazione."
      ]
    },
    {
      "cell_type": "code",
      "execution_count": null,
      "metadata": {
        "colab": {
          "base_uri": "https://localhost:8080/",
          "height": 204
        },
        "id": "lclgnaQi9qnL",
        "outputId": "4f65d407-2785-4ba1-b886-2fcb97fa2d23"
      },
      "outputs": [
        {
          "data": {
            "text/html": [
              "<div>\n",
              "<style scoped>\n",
              "    .dataframe tbody tr th:only-of-type {\n",
              "        vertical-align: middle;\n",
              "    }\n",
              "\n",
              "    .dataframe tbody tr th {\n",
              "        vertical-align: top;\n",
              "    }\n",
              "\n",
              "    .dataframe thead th {\n",
              "        text-align: right;\n",
              "    }\n",
              "</style>\n",
              "<table border=\"1\" class=\"dataframe\">\n",
              "  <thead>\n",
              "    <tr style=\"text-align: right;\">\n",
              "      <th></th>\n",
              "      <th>Selling_Price</th>\n",
              "      <th>Present_Price</th>\n",
              "      <th>Kms_Driven</th>\n",
              "      <th>Owner</th>\n",
              "      <th>Car_Age</th>\n",
              "      <th>Fuel_Type_Diesel</th>\n",
              "      <th>Fuel_Type_Petrol</th>\n",
              "      <th>Seller_Type_Individual</th>\n",
              "      <th>Transmission_Manual</th>\n",
              "    </tr>\n",
              "  </thead>\n",
              "  <tbody>\n",
              "    <tr>\n",
              "      <th>0</th>\n",
              "      <td>3.35</td>\n",
              "      <td>5.59</td>\n",
              "      <td>27000</td>\n",
              "      <td>0</td>\n",
              "      <td>7</td>\n",
              "      <td>0</td>\n",
              "      <td>1</td>\n",
              "      <td>0</td>\n",
              "      <td>1</td>\n",
              "    </tr>\n",
              "    <tr>\n",
              "      <th>1</th>\n",
              "      <td>4.75</td>\n",
              "      <td>9.54</td>\n",
              "      <td>43000</td>\n",
              "      <td>0</td>\n",
              "      <td>8</td>\n",
              "      <td>1</td>\n",
              "      <td>0</td>\n",
              "      <td>0</td>\n",
              "      <td>1</td>\n",
              "    </tr>\n",
              "    <tr>\n",
              "      <th>2</th>\n",
              "      <td>7.25</td>\n",
              "      <td>9.85</td>\n",
              "      <td>6900</td>\n",
              "      <td>0</td>\n",
              "      <td>4</td>\n",
              "      <td>0</td>\n",
              "      <td>1</td>\n",
              "      <td>0</td>\n",
              "      <td>1</td>\n",
              "    </tr>\n",
              "    <tr>\n",
              "      <th>3</th>\n",
              "      <td>2.85</td>\n",
              "      <td>4.15</td>\n",
              "      <td>5200</td>\n",
              "      <td>0</td>\n",
              "      <td>10</td>\n",
              "      <td>0</td>\n",
              "      <td>1</td>\n",
              "      <td>0</td>\n",
              "      <td>1</td>\n",
              "    </tr>\n",
              "    <tr>\n",
              "      <th>4</th>\n",
              "      <td>4.60</td>\n",
              "      <td>6.87</td>\n",
              "      <td>42450</td>\n",
              "      <td>0</td>\n",
              "      <td>7</td>\n",
              "      <td>1</td>\n",
              "      <td>0</td>\n",
              "      <td>0</td>\n",
              "      <td>1</td>\n",
              "    </tr>\n",
              "  </tbody>\n",
              "</table>\n",
              "</div>"
            ],
            "text/plain": [
              "   Selling_Price  Present_Price  ...  Seller_Type_Individual  Transmission_Manual\n",
              "0           3.35           5.59  ...                       0                    1\n",
              "1           4.75           9.54  ...                       0                    1\n",
              "2           7.25           9.85  ...                       0                    1\n",
              "3           2.85           4.15  ...                       0                    1\n",
              "4           4.60           6.87  ...                       0                    1\n",
              "\n",
              "[5 rows x 9 columns]"
            ]
          },
          "execution_count": 22,
          "metadata": {
            "tags": []
          },
          "output_type": "execute_result"
        }
      ],
      "source": [
        "data = pd.get_dummies(data, drop_first = True)\n",
        "data.head()"
      ]
    },
    {
      "cell_type": "markdown",
      "metadata": {
        "id": "ke0wN_twYuCJ"
      },
      "source": [
        "* Da questa tabella possiamo studiare la correlazione tra tutte le feature presenti nel nostro Dataset. Possiamo subito notare come il prezzo di Vendita che il prezzo di Listino siano i più correlati. A seguire anche la correlazione con Diesel risulta essere superiore alla media."
      ]
    },
    {
      "cell_type": "code",
      "execution_count": null,
      "metadata": {
        "colab": {
          "base_uri": "https://localhost:8080/",
          "height": 328
        },
        "id": "VcCj6QOm_f8B",
        "outputId": "a6895813-2220-41e8-ca08-8b30b66e653d"
      },
      "outputs": [
        {
          "data": {
            "text/html": [
              "<div>\n",
              "<style scoped>\n",
              "    .dataframe tbody tr th:only-of-type {\n",
              "        vertical-align: middle;\n",
              "    }\n",
              "\n",
              "    .dataframe tbody tr th {\n",
              "        vertical-align: top;\n",
              "    }\n",
              "\n",
              "    .dataframe thead th {\n",
              "        text-align: right;\n",
              "    }\n",
              "</style>\n",
              "<table border=\"1\" class=\"dataframe\">\n",
              "  <thead>\n",
              "    <tr style=\"text-align: right;\">\n",
              "      <th></th>\n",
              "      <th>Selling_Price</th>\n",
              "      <th>Present_Price</th>\n",
              "      <th>Kms_Driven</th>\n",
              "      <th>Owner</th>\n",
              "      <th>Car_Age</th>\n",
              "      <th>Fuel_Type_Diesel</th>\n",
              "      <th>Fuel_Type_Petrol</th>\n",
              "      <th>Seller_Type_Individual</th>\n",
              "      <th>Transmission_Manual</th>\n",
              "    </tr>\n",
              "  </thead>\n",
              "  <tbody>\n",
              "    <tr>\n",
              "      <th>Selling_Price</th>\n",
              "      <td>1.000000</td>\n",
              "      <td>0.879131</td>\n",
              "      <td>0.029546</td>\n",
              "      <td>-0.088741</td>\n",
              "      <td>-0.236047</td>\n",
              "      <td>0.551948</td>\n",
              "      <td>-0.551948</td>\n",
              "      <td>-0.553425</td>\n",
              "      <td>-0.366627</td>\n",
              "    </tr>\n",
              "    <tr>\n",
              "      <th>Present_Price</th>\n",
              "      <td>0.879131</td>\n",
              "      <td>1.000000</td>\n",
              "      <td>0.203665</td>\n",
              "      <td>0.007895</td>\n",
              "      <td>0.047172</td>\n",
              "      <td>0.473300</td>\n",
              "      <td>-0.473300</td>\n",
              "      <td>-0.513733</td>\n",
              "      <td>-0.348576</td>\n",
              "    </tr>\n",
              "    <tr>\n",
              "      <th>Kms_Driven</th>\n",
              "      <td>0.029546</td>\n",
              "      <td>0.203665</td>\n",
              "      <td>1.000000</td>\n",
              "      <td>0.089417</td>\n",
              "      <td>0.524285</td>\n",
              "      <td>0.173191</td>\n",
              "      <td>-0.173191</td>\n",
              "      <td>-0.100885</td>\n",
              "      <td>-0.163016</td>\n",
              "    </tr>\n",
              "    <tr>\n",
              "      <th>Owner</th>\n",
              "      <td>-0.088741</td>\n",
              "      <td>0.007895</td>\n",
              "      <td>0.089417</td>\n",
              "      <td>1.000000</td>\n",
              "      <td>0.182697</td>\n",
              "      <td>-0.054102</td>\n",
              "      <td>0.054102</td>\n",
              "      <td>0.123646</td>\n",
              "      <td>-0.049889</td>\n",
              "    </tr>\n",
              "    <tr>\n",
              "      <th>Car_Age</th>\n",
              "      <td>-0.236047</td>\n",
              "      <td>0.047172</td>\n",
              "      <td>0.524285</td>\n",
              "      <td>0.182697</td>\n",
              "      <td>1.000000</td>\n",
              "      <td>-0.063754</td>\n",
              "      <td>0.063754</td>\n",
              "      <td>0.041116</td>\n",
              "      <td>-0.000966</td>\n",
              "    </tr>\n",
              "    <tr>\n",
              "      <th>Fuel_Type_Diesel</th>\n",
              "      <td>0.551948</td>\n",
              "      <td>0.473300</td>\n",
              "      <td>0.173191</td>\n",
              "      <td>-0.054102</td>\n",
              "      <td>-0.063754</td>\n",
              "      <td>1.000000</td>\n",
              "      <td>-1.000000</td>\n",
              "      <td>-0.353865</td>\n",
              "      <td>-0.097468</td>\n",
              "    </tr>\n",
              "    <tr>\n",
              "      <th>Fuel_Type_Petrol</th>\n",
              "      <td>-0.551948</td>\n",
              "      <td>-0.473300</td>\n",
              "      <td>-0.173191</td>\n",
              "      <td>0.054102</td>\n",
              "      <td>0.063754</td>\n",
              "      <td>-1.000000</td>\n",
              "      <td>1.000000</td>\n",
              "      <td>0.353865</td>\n",
              "      <td>0.097468</td>\n",
              "    </tr>\n",
              "    <tr>\n",
              "      <th>Seller_Type_Individual</th>\n",
              "      <td>-0.553425</td>\n",
              "      <td>-0.513733</td>\n",
              "      <td>-0.100885</td>\n",
              "      <td>0.123646</td>\n",
              "      <td>0.041116</td>\n",
              "      <td>-0.353865</td>\n",
              "      <td>0.353865</td>\n",
              "      <td>1.000000</td>\n",
              "      <td>0.065323</td>\n",
              "    </tr>\n",
              "    <tr>\n",
              "      <th>Transmission_Manual</th>\n",
              "      <td>-0.366627</td>\n",
              "      <td>-0.348576</td>\n",
              "      <td>-0.163016</td>\n",
              "      <td>-0.049889</td>\n",
              "      <td>-0.000966</td>\n",
              "      <td>-0.097468</td>\n",
              "      <td>0.097468</td>\n",
              "      <td>0.065323</td>\n",
              "      <td>1.000000</td>\n",
              "    </tr>\n",
              "  </tbody>\n",
              "</table>\n",
              "</div>"
            ],
            "text/plain": [
              "                        Selling_Price  ...  Transmission_Manual\n",
              "Selling_Price                1.000000  ...            -0.366627\n",
              "Present_Price                0.879131  ...            -0.348576\n",
              "Kms_Driven                   0.029546  ...            -0.163016\n",
              "Owner                       -0.088741  ...            -0.049889\n",
              "Car_Age                     -0.236047  ...            -0.000966\n",
              "Fuel_Type_Diesel             0.551948  ...            -0.097468\n",
              "Fuel_Type_Petrol            -0.551948  ...             0.097468\n",
              "Seller_Type_Individual      -0.553425  ...             0.065323\n",
              "Transmission_Manual         -0.366627  ...             1.000000\n",
              "\n",
              "[9 rows x 9 columns]"
            ]
          },
          "execution_count": 23,
          "metadata": {
            "tags": []
          },
          "output_type": "execute_result"
        }
      ],
      "source": [
        "data.corr()"
      ]
    },
    {
      "cell_type": "markdown",
      "metadata": {
        "id": "6P7MsylJCiAW"
      },
      "source": [
        "### Validation set"
      ]
    },
    {
      "cell_type": "code",
      "execution_count": null,
      "metadata": {
        "id": "fz4wavDwzRYO"
      },
      "outputs": [],
      "source": [
        "from sklearn.linear_model import Lasso, LinearRegression, Ridge\n",
        "from sklearn.model_selection import train_test_split\n",
        "from sklearn.pipeline import Pipeline\n",
        "from sklearn.metrics import mean_squared_error, r2_score\n",
        "\n",
        "from sklearn.preprocessing import StandardScaler"
      ]
    },
    {
      "cell_type": "markdown",
      "metadata": {
        "id": "vNQLkIhbCfbH"
      },
      "source": [
        "* Creiamo una funziona che ci aiuterà per determinare quale modello ci aiuta maggiormente per la pedizione della nostra y"
      ]
    },
    {
      "cell_type": "code",
      "execution_count": null,
      "metadata": {
        "id": "8NyfTGOY2pzR"
      },
      "outputs": [],
      "source": [
        "def relative_error(y_true, y_pred):\n",
        "    return np.mean(np.abs((y_true - y_pred) / y_true))\n",
        "\n",
        "def print_eval(X, y, model):\n",
        "    preds = model.predict(X)\n",
        "    print(\"   Mean squared error: {:.5}\".format(mean_squared_error(y, preds)))\n",
        "    print(\"       Relative error: {:.5%}\".format(relative_error(y, preds)))\n",
        "    print(\"R-squared coefficient: {:.5}\".format(r2_score(y, preds)))"
      ]
    },
    {
      "cell_type": "markdown",
      "metadata": {
        "id": "ZJdbzDdBCpuf"
      },
      "source": [
        "* Dividiamo in due parti il nostro Dataset per gestire la parte di Validation e Training. Dato che il nostro obiettivo è stimare il `Selling_Price` andremo a creare X e y in questo modo:\n",
        "---\n",
        "* **X**: Conterrà tutte le feature eccetto la `Selling_Price`\n",
        "* **y**: Conterrà solamente la colonna del `Selling_Price`\n",
        "---\n",
        "* Per fare questa operazione utilizziamo il metodo `Hold-out`. La valutazione può dipendere fortemente da quali dati finiscono nel set di addestramento e quali finiscono nel set di test, e quindi può essere significativamente diversa a seconda di come viene fatta la divisione."
      ]
    },
    {
      "cell_type": "code",
      "execution_count": null,
      "metadata": {
        "id": "1GzmKWdn7GlH"
      },
      "outputs": [],
      "source": [
        "y = data[\"Selling_Price\"]\n",
        "X = data.drop(columns = \"Selling_Price\")"
      ]
    },
    {
      "cell_type": "code",
      "execution_count": null,
      "metadata": {
        "id": "ufKKTwnq6Gyi"
      },
      "outputs": [],
      "source": [
        "X_train, X_val, y_train, y_val = train_test_split(\n",
        "    X,\n",
        "    y, \n",
        "    test_size = 0.2, #Possiamo variare tra 0.2 e 0.3\n",
        "    random_state = 42\n",
        ")"
      ]
    },
    {
      "cell_type": "markdown",
      "metadata": {
        "id": "LT_gvBPWDC_Z"
      },
      "source": [
        "* Qui vediamo com'è stato diviso il nostro Dataset:"
      ]
    },
    {
      "cell_type": "code",
      "execution_count": null,
      "metadata": {
        "colab": {
          "base_uri": "https://localhost:8080/"
        },
        "id": "FgSrmtlO44SR",
        "outputId": "3c85b388-ef36-4f5d-a0d8-8a2ed3ce3fc9"
      },
      "outputs": [
        {
          "name": "stdout",
          "output_type": "stream",
          "text": [
            "Training set:  (239, 8)\n",
            "Validation set:  (60, 8)\n"
          ]
        }
      ],
      "source": [
        "print(f\"Training set:  {X_train.shape}\\nValidation set:  {X_val.shape}\")"
      ]
    },
    {
      "cell_type": "markdown",
      "metadata": {
        "id": "AfxMhHt9IGIC"
      },
      "source": [
        "### Creazione e analisi di modelli di Regressione"
      ]
    },
    {
      "cell_type": "markdown",
      "metadata": {
        "id": "yhDppIPKIYQ6"
      },
      "source": [
        "* Il nostro obiettivo è quello di creare un modello che ci permetta di stimare il prezzo di vendita di un Automobile. Studiamo e testiamo diversi modelli finchè non troviamo quello che faccia al caso nostro.\n",
        "* Come primo modello iniziamo con una **Regressione Lineare** semplice:"
      ]
    },
    {
      "cell_type": "code",
      "execution_count": null,
      "metadata": {
        "colab": {
          "base_uri": "https://localhost:8080/"
        },
        "id": "YzqpHnbf4qb1",
        "outputId": "1cff8617-96dd-4b71-d823-0b6117391ea3"
      },
      "outputs": [
        {
          "data": {
            "text/plain": [
              "LinearRegression(copy_X=True, fit_intercept=True, n_jobs=None, normalize=False)"
            ]
          },
          "execution_count": 29,
          "metadata": {
            "tags": []
          },
          "output_type": "execute_result"
        }
      ],
      "source": [
        "lrm = LinearRegression()\n",
        "lrm.fit(X_train, y_train)"
      ]
    },
    {
      "cell_type": "code",
      "execution_count": null,
      "metadata": {
        "colab": {
          "base_uri": "https://localhost:8080/"
        },
        "id": "OkaIiNX5E2dU",
        "outputId": "d1d36594-90dd-4459-f37b-644433608e65"
      },
      "outputs": [
        {
          "name": "stdout",
          "output_type": "stream",
          "text": [
            "   Mean squared error: 13.06\n",
            "       Relative error: 214.08918%\n",
            "R-squared coefficient: 0.63086\n"
          ]
        }
      ],
      "source": [
        "print_eval(X_val, y_val, lrm)"
      ]
    },
    {
      "cell_type": "code",
      "execution_count": null,
      "metadata": {
        "colab": {
          "base_uri": "https://localhost:8080/"
        },
        "id": "A9xWSvdK7rQq",
        "outputId": "8b5a9270-1ed2-433a-89fe-0c94afcdccca"
      },
      "outputs": [
        {
          "data": {
            "text/plain": [
              "Present_Price             0.600259\n",
              "Kms_Driven               -0.000024\n",
              "Owner                    -1.094918\n",
              "Car_Age                  -0.267790\n",
              "Fuel_Type_Diesel          0.759270\n",
              "Fuel_Type_Petrol         -0.759270\n",
              "Seller_Type_Individual   -0.249847\n",
              "Transmission_Manual      -0.809224\n",
              "dtype: float64"
            ]
          },
          "execution_count": 31,
          "metadata": {
            "tags": []
          },
          "output_type": "execute_result"
        }
      ],
      "source": [
        "pd.Series(lrm.coef_, index = X_train.columns)"
      ]
    },
    {
      "cell_type": "markdown",
      "metadata": {
        "id": "U5OKz9WOJPY4"
      },
      "source": [
        "* Da qui possiamo osservare come sia il Present Price che il carburante di tipo Diesel incidano particolarmente sulla previsione dei nuovi dati. Questo tipo di andamento era già stato notato con la tabella di correllazione.  \n",
        "* Cerchiamo dunque di migliorare il modello utilizzando una regolarizzazione L2, chiamata **Regressione Ridge**."
      ]
    },
    {
      "cell_type": "code",
      "execution_count": null,
      "metadata": {
        "colab": {
          "base_uri": "https://localhost:8080/"
        },
        "id": "pcAyaI2w86H_",
        "outputId": "deb20205-afff-431a-af8b-70363e29f60a"
      },
      "outputs": [
        {
          "name": "stdout",
          "output_type": "stream",
          "text": [
            "Alpha 0.01\n",
            "\n",
            "   Mean squared error: 13.061\n",
            "       Relative error: 214.10217%\n",
            "R-squared coefficient: 0.63083\n",
            "\n",
            "\n",
            "Alpha 0.1\n",
            "\n",
            "   Mean squared error: 13.069\n",
            "       Relative error: 214.21817%\n",
            "R-squared coefficient: 0.63062\n",
            "\n",
            "\n",
            "Alpha 1.0\n",
            "\n",
            "   Mean squared error: 13.143\n",
            "       Relative error: 215.29975%\n",
            "R-squared coefficient: 0.62852\n",
            "\n",
            "\n"
          ]
        }
      ],
      "source": [
        "for i in [0.01, 0.1, 1.0]:\n",
        "  model_b = Ridge(alpha = i)\n",
        "  model_b.fit(X_train, y_train)\n",
        "  print(f'Alpha {i}\\n')\n",
        "  print_eval(X_val, y_val, model_b)\n",
        "  print('\\n')"
      ]
    },
    {
      "cell_type": "markdown",
      "metadata": {
        "id": "wFFHOh4SQBOG"
      },
      "source": [
        "* Analizziamo con 3 differenti valori di alpha e vediamo che in tutti e tre i casi il nostro score si abbassa."
      ]
    },
    {
      "cell_type": "markdown",
      "metadata": {
        "id": "sDUY3B7ZetBk"
      },
      "source": [
        "### Standardizzazione"
      ]
    },
    {
      "cell_type": "markdown",
      "metadata": {
        "id": "lUFc-dzBezTe"
      },
      "source": [
        "* Vedendo l'andamento dei due casi precedenti proviamo a standardizzare i nostri dati per migliorare il modello. Adottiamo un metodo di regolarizzazione L1.  \n",
        "* La **Regressione Lasso** è basata sulla minimizzazione della funzione d'errore.  \n",
        "Come per il caso precedente, alpha, determina il peso della regolarizzazione."
      ]
    },
    {
      "cell_type": "code",
      "execution_count": null,
      "metadata": {
        "colab": {
          "base_uri": "https://localhost:8080/"
        },
        "id": "_nmgvT7I_51V",
        "outputId": "aaef2fcf-9220-4349-a99c-9e45985bffd9"
      },
      "outputs": [
        {
          "name": "stdout",
          "output_type": "stream",
          "text": [
            "Alpha 0.01\n",
            "\n",
            "   Mean squared error: 12.918\n",
            "       Relative error: 211.35184%\n",
            "R-squared coefficient: 0.63487\n",
            "\n",
            "\n",
            "Present_Price             4.057043e+00\n",
            "Kms_Driven               -6.417472e-01\n",
            "Owner                    -2.802935e-01\n",
            "Car_Age                  -7.655447e-01\n",
            "Fuel_Type_Diesel          5.796293e-01\n",
            "Fuel_Type_Petrol         -1.549667e-15\n",
            "Seller_Type_Individual   -1.129985e-01\n",
            "Transmission_Manual      -2.635183e-01\n",
            "dtype: float64\n",
            "\n",
            "\n",
            "Alpha 0.1\n",
            "\n",
            "   Mean squared error: 11.752\n",
            "       Relative error: 187.90027%\n",
            "R-squared coefficient: 0.66784\n",
            "\n",
            "\n",
            "Present_Price             4.030387e+00\n",
            "Kms_Driven               -5.150193e-01\n",
            "Owner                    -2.141841e-01\n",
            "Car_Age                  -7.841287e-01\n",
            "Fuel_Type_Diesel          4.996070e-01\n",
            "Fuel_Type_Petrol         -9.067596e-16\n",
            "Seller_Type_Individual   -5.437854e-02\n",
            "Transmission_Manual      -1.887520e-01\n",
            "dtype: float64\n",
            "\n",
            "\n",
            "Alpha 1.0\n",
            "\n",
            "   Mean squared error: 6.3839\n",
            "       Relative error: 94.10376%\n",
            "R-squared coefficient: 0.81956\n",
            "\n",
            "\n",
            "Present_Price             3.336929\n",
            "Kms_Driven               -0.000000\n",
            "Owner                    -0.000000\n",
            "Car_Age                  -0.316671\n",
            "Fuel_Type_Diesel          0.000000\n",
            "Fuel_Type_Petrol         -0.000000\n",
            "Seller_Type_Individual   -0.000000\n",
            "Transmission_Manual      -0.000000\n",
            "dtype: float64\n",
            "\n",
            "\n"
          ]
        }
      ],
      "source": [
        "for i in [0.01, 0.1, 1.0]:\n",
        "  std_lasso_model = Pipeline([\n",
        "    (\"scale\", StandardScaler()),\n",
        "    (\"regr\", Lasso(alpha = i))\n",
        "  ])\n",
        "\n",
        "  std_lasso_model.fit(X_train, y_train)\n",
        "  print(f'Alpha {i}\\n')\n",
        "  print_eval(X_val, y_val, std_lasso_model)\n",
        "  print('\\n')\n",
        "  print(pd.Series(std_lasso_model.named_steps[\"regr\"].coef_, index = X.columns))\n",
        "  print('\\n')"
      ]
    },
    {
      "cell_type": "markdown",
      "metadata": {
        "id": "zAWulrLHMfh8"
      },
      "source": [
        "* In questo caso invece, vediamo fin da subito come all'aumentare di Alpha riusciamo ad ottenere un coefficiente R^2 decisamente migliore, confermando la feature `Present_Price` più decisiva."
      ]
    },
    {
      "cell_type": "markdown",
      "metadata": {
        "id": "Q9T2dMn9AZ9P"
      },
      "source": [
        "# Parte 3 - Studio con Grid Search e Nested cross validation\n",
        "\n",
        "Con la cross validation andiamo a valutare un modetto su dati diversi rispetto a come è addestrato. Lavora su due processi, uno interno per trovare gli iperparametri migliori ed uno esterno per stimare l'accuratezza media dei dati.\n",
        "Fin'ora abbiamo usato il metodo `hold-out`, adesso andiamo ad utilizzare il metodo di `Nested K-fold` per avere una validazione più accurata. Tramite la `Grid Search` generiamo poi N modelli differenti per stimare gli iperparametri e calcolare l'effettiva accuratezza dei modelli."
      ]
    },
    {
      "cell_type": "markdown",
      "metadata": {
        "id": "Jmasi3ERpyAC"
      },
      "source": [
        "### Importazioni delle librerie"
      ]
    },
    {
      "cell_type": "code",
      "execution_count": null,
      "metadata": {
        "id": "FnmiOYD5ah0d"
      },
      "outputs": [],
      "source": [
        "from sklearn.preprocessing import PolynomialFeatures\n",
        "from sklearn.linear_model import ElasticNet\n",
        "from sklearn.model_selection import KFold, cross_validate, GridSearchCV\n",
        "from sklearn.kernel_ridge import KernelRidge\n",
        "from sklearn.decomposition import PCA\n",
        "\n",
        "import xgboost as xgb\n",
        "import seaborn as sns"
      ]
    },
    {
      "cell_type": "markdown",
      "metadata": {
        "id": "KGjGaNsLp0_p"
      },
      "source": [
        "### Definizione dello studio Nested"
      ]
    },
    {
      "cell_type": "markdown",
      "metadata": {
        "id": "ERGe-uEIfx3r"
      },
      "source": [
        "* Definiamo un metodo che ci aiuti con la realizzazione una di una funzione che ci permetta di eseguire la nested cross validation.  \n",
        "Per ogni GS andiamo a salvarci lo score e successivamente torniamo il modello con il rispettivo score migliore.  \n",
        "Ci troveremo poi un dict con tutti i modelli studiati e il loro score."
      ]
    },
    {
      "cell_type": "code",
      "execution_count": null,
      "metadata": {
        "id": "zSHEbPDkCQGm"
      },
      "outputs": [],
      "source": [
        "models = {}\n",
        "\n",
        "outer_cv = KFold(3, shuffle=True, random_state=42)\n",
        "inner_cv = KFold(5, shuffle=True, random_state=42)\n",
        "\n",
        "def nested_cv(model, grid):\n",
        "    results = {}\n",
        "    for train_indices, val_indices in outer_cv.split(X, y):\n",
        "        X_train, y_train = X.iloc[train_indices], y.iloc[train_indices]\n",
        "        X_val, y_val = X.iloc[val_indices], y.iloc[val_indices]\n",
        "        gs = GridSearchCV(model, grid, cv = inner_cv, refit = True)\n",
        "        gs.fit(X_train, y_train)\n",
        "        score = gs.score(X_val, y_val)\n",
        "        results.update({score:gs})\n",
        "\n",
        "        print(f\"Score: {format(score)}\")\n",
        "\n",
        "    final_score = max(results.keys())\n",
        "    return results[final_score], final_score"
      ]
    },
    {
      "cell_type": "markdown",
      "metadata": {
        "id": "FahxHWCkSJA8"
      },
      "source": [
        "* Adesso cerchiamo i parametri ottimi utilizzando gli stessi modelli analizzati sopra utilizzando una GridSearch"
      ]
    },
    {
      "cell_type": "markdown",
      "metadata": {
        "id": "qtC9WJuWJa8C"
      },
      "source": [
        "### Lasso"
      ]
    },
    {
      "cell_type": "markdown",
      "metadata": {
        "id": "4b_B82SAg8pe"
      },
      "source": [
        "* La regressione lasso consiste nella regressione lineare con regolarizzazione L1, basata quindi sul minimizzare la funzione d'errore. Il parametro alpha controlla il peso della regolarizzazione, andiamo infatti a studiare il modello sulla base di 4 possibili alpha."
      ]
    },
    {
      "cell_type": "code",
      "execution_count": null,
      "metadata": {
        "colab": {
          "base_uri": "https://localhost:8080/"
        },
        "id": "l2DmxHg5DmT0",
        "outputId": "2152e67d-4ffe-4804-9288-b3a31b592fc0"
      },
      "outputs": [
        {
          "name": "stdout",
          "output_type": "stream",
          "text": [
            "Score: 0.9480423187280278\n",
            "Score: 0.9357238617048166\n",
            "Score: 0.8833103082596883\n"
          ]
        }
      ],
      "source": [
        "lasso_model = Pipeline([\n",
        "    (\"poly\", PolynomialFeatures(include_bias = False)),\n",
        "    (\"std\", StandardScaler()),\n",
        "    (\"regr\", Lasso())\n",
        "])\n",
        "\n",
        "grid = {\n",
        "    \"poly__degree\": [2, 3],\n",
        "    \"regr__alpha\": [0.01, 0.1, 1, 10]\n",
        "}\n",
        "\n",
        "mdl, score = nested_cv(lasso_model, grid)\n",
        "models[\"Lasso\"] = {\"Model\": mdl, \"Score\": score}"
      ]
    },
    {
      "cell_type": "markdown",
      "metadata": {
        "id": "5ZraQ0HwN_6W"
      },
      "source": [
        "### Ridge"
      ]
    },
    {
      "cell_type": "markdown",
      "metadata": {
        "id": "QUHtxJ-whblz"
      },
      "source": [
        "* La regressione Ridge, a differenza della Lasso, consiste nella regressione lineare con regolarizzazione L2. In questo modo parametri molto alti in valore assoluto sono molto penalizzati. Anche per questo modello andiamo a studiare diversi alpha."
      ]
    },
    {
      "cell_type": "code",
      "execution_count": null,
      "metadata": {
        "colab": {
          "base_uri": "https://localhost:8080/"
        },
        "id": "93fLza0KOJdF",
        "outputId": "4e132e63-6e36-4fbe-8ab0-17bc14807c77"
      },
      "outputs": [
        {
          "name": "stdout",
          "output_type": "stream",
          "text": [
            "Score: 0.8741752780202575\n",
            "Score: 0.9393047174910334\n",
            "Score: 0.9665859671744659\n"
          ]
        }
      ],
      "source": [
        "ridge_model = Pipeline([\n",
        "    (\"poly\",  PolynomialFeatures(include_bias=False)),\n",
        "    (\"scale\", StandardScaler()),\n",
        "    (\"regr\",  Ridge())\n",
        "])\n",
        "\n",
        "grid = {\n",
        "    \"poly__degree\": [2, 3],      \n",
        "    \"regr__alpha\":  [0.1, 1, 10]\n",
        "}\n",
        "\n",
        "mdl, score = nested_cv(ridge_model, grid)\n",
        "models[\"Ridge\"] = {\"Model\": mdl, \"Score\": score}"
      ]
    },
    {
      "cell_type": "markdown",
      "metadata": {
        "id": "rOUchl3pNgZj"
      },
      "source": [
        "### Elastic Net"
      ]
    },
    {
      "cell_type": "markdown",
      "metadata": {
        "id": "ggCNI4iPDEG2"
      },
      "source": [
        "* Dopo aver testate Ridge e Lasso in maniera seperata con questo metodo andiamo ad unire le due regressioni L2 e L1. Con alpha definiamo il peso generale mentre con l1_ratio il peso di L1 relativo al totale."
      ]
    },
    {
      "cell_type": "code",
      "execution_count": null,
      "metadata": {
        "colab": {
          "base_uri": "https://localhost:8080/"
        },
        "id": "uFP2Dwq_Nf96",
        "outputId": "31a78e5d-36a3-43b8-e97f-0dc35d5ec00b"
      },
      "outputs": [
        {
          "name": "stdout",
          "output_type": "stream",
          "text": [
            "Score: -1.1007246158654826\n",
            "Score: 0.9192083154919127\n",
            "Score: 0.6461539596626545\n"
          ]
        }
      ],
      "source": [
        "elastic_model = Pipeline([\n",
        "    (\"poly\", PolynomialFeatures(include_bias = False)),\n",
        "    (\"std\", StandardScaler()),\n",
        "    (\"regr\", ElasticNet())\n",
        "])\n",
        "\n",
        "grid = {\n",
        "    \"poly__degree\": [2, 3],\n",
        "    \"regr__alpha\": [0.1, 1, 10],\n",
        "    \"regr__l1_ratio\": [0.1, 0.25, 0.5]\n",
        "}\n",
        "\n",
        "mdl, score = nested_cv(elastic_model, grid)\n",
        "models[\"Elastic_Net\"] = {\"Model\": mdl, \"Score\": score}"
      ]
    },
    {
      "cell_type": "markdown",
      "metadata": {
        "id": "nBLFhM1HNuX-"
      },
      "source": [
        "### XGBoost"
      ]
    },
    {
      "cell_type": "markdown",
      "metadata": {
        "id": "KZJdVgiZi_3q"
      },
      "source": [
        "* Questa tipologia di algoritmo ci permette di prevedere con precisione una variabili di destinazione combinando le stime di un insieme di modelli più semplici e deboli. XGBoost riduce al minimo una funzione oggettiva regolarizzata (L1 e L2) che combina una funzione di perdita convessa e un termine di penalità della complessità del modello"
      ]
    },
    {
      "cell_type": "code",
      "execution_count": null,
      "metadata": {
        "colab": {
          "base_uri": "https://localhost:8080/"
        },
        "id": "_rF0ltrKMr7D",
        "outputId": "4107fdd7-4e20-4a8d-9ece-60fbe2d8813b"
      },
      "outputs": [
        {
          "name": "stdout",
          "output_type": "stream",
          "text": [
            "Score: 0.8057702821875574\n",
            "Score: 0.9151423128549061\n",
            "Score: 0.9139021438276191\n"
          ]
        }
      ],
      "source": [
        "xgb_model = Pipeline([\n",
        "    (\"Scale\", StandardScaler()),\n",
        "    (\"PCA\", PCA()),\n",
        "    (\"regr\", xgb.XGBRegressor(objective ='reg:squarederror'))\n",
        "])\n",
        "\n",
        "grid = {\n",
        "    'PCA__n_components': [5],\n",
        "    'regr__n_estimators': [1000],\n",
        "    'regr__max_depth': [3],\n",
        "    'regr__alpha': [0.1, 1, 10],\n",
        "    'regr__lambda': [0.1]\n",
        "}\n",
        "\n",
        "mdl, score = nested_cv(xgb_model, grid)\n",
        "models[\"XGBoost\"] = {\"Model\": mdl, \"Score\": score}"
      ]
    },
    {
      "cell_type": "markdown",
      "metadata": {
        "id": "bu2L14M8N-Cd"
      },
      "source": [
        "### Risultati"
      ]
    },
    {
      "cell_type": "markdown",
      "metadata": {
        "id": "sBRa00B9SRxH"
      },
      "source": [
        "* Controlliamo i risultati migliori per tutti i modelli studiati:"
      ]
    },
    {
      "cell_type": "code",
      "execution_count": null,
      "metadata": {
        "colab": {
          "base_uri": "https://localhost:8080/"
        },
        "id": "fYB7J0yURIhM",
        "outputId": "c6b27e29-50e9-4824-9b31-6b31fe06f3ee"
      },
      "outputs": [
        {
          "name": "stdout",
          "output_type": "stream",
          "text": [
            "Lasso:\n",
            "\t\t0.9480423187280278\n",
            "Ridge:\n",
            "\t\t0.9665859671744659\n",
            "Elastic_Net:\n",
            "\t\t0.9192083154919127\n",
            "XGBoost:\n",
            "\t\t0.9151423128549061\n"
          ]
        }
      ],
      "source": [
        "for model in models:\n",
        "  print(f\"{model}:\\n\\t\\t{models[model]['Score']}\")"
      ]
    },
    {
      "cell_type": "markdown",
      "metadata": {
        "id": "vmSdB-g1UW0X"
      },
      "source": [
        "# Parte 4 - Valutazione dei modelli studiati\n",
        "\n",
        "A questo punto andiamo a valutare con più attenzione i modelli che abbiamo individuato. Utilizziamo la funzione precedentemente definita `print_val` la quale ci tornerà per ogni modello addestrato i suoi: \n",
        "* Errore quadratico medio\n",
        "* Errore relativo\n",
        "* Coefficiente R^2\n",
        "\n",
        "\n"
      ]
    },
    {
      "cell_type": "markdown",
      "metadata": {
        "id": "uJXkYzGVpjg5"
      },
      "source": [
        "### Accuratezza e validazione"
      ]
    },
    {
      "cell_type": "code",
      "execution_count": null,
      "metadata": {
        "colab": {
          "base_uri": "https://localhost:8080/"
        },
        "id": "umR3n05fgJC3",
        "outputId": "ebd8a6e2-ca24-46d5-e80e-ed3e95299ef5"
      },
      "outputs": [
        {
          "name": "stdout",
          "output_type": "stream",
          "text": [
            "Lasso model:\n",
            "-----------------------\n",
            "   Mean squared error: 1.5866\n",
            "       Relative error: 40.00987%\n",
            "R-squared coefficient: 0.95515\n",
            "-----------------------\n",
            "\n",
            "Ridge model:\n",
            "-----------------------\n",
            "   Mean squared error: 0.39058\n",
            "       Relative error: 19.89680%\n",
            "R-squared coefficient: 0.98896\n",
            "-----------------------\n",
            "\n",
            "Elastic_Net model:\n",
            "-----------------------\n",
            "   Mean squared error: 1.1706\n",
            "       Relative error: 44.39345%\n",
            "R-squared coefficient: 0.96691\n",
            "-----------------------\n",
            "\n",
            "XGBoost model:\n",
            "-----------------------\n",
            "   Mean squared error: 0.00011913\n",
            "       Relative error: 0.73640%\n",
            "R-squared coefficient: 1.0\n",
            "-----------------------\n",
            "\n"
          ]
        }
      ],
      "source": [
        "for model in models:\n",
        "  print(f\"{model} model:\\n-----------------------\")\n",
        "  print_eval(X_val, y_val, models[model][\"Model\"])\n",
        "  print(\"-----------------------\\n\")"
      ]
    },
    {
      "cell_type": "markdown",
      "metadata": {
        "id": "4hkWNTVmXB_h"
      },
      "source": [
        "* Vediamo come i modelli sono molto simili tra loro, il **Ridge** supera di accuratezza il **Lasso** e l'**Elastic net** come appurato precedentemente. Ma abbiamo una precissisima previsione con il modello di **XGBoost**.  \n",
        "* Definiamo dunque una funzione che ci permette di stampare, dato il nome del modello, l'andamento della predizione confrontando due grafici: *Histplot* e *Scatter*"
      ]
    },
    {
      "cell_type": "markdown",
      "metadata": {
        "id": "5exm4ufgppIP"
      },
      "source": [
        "### Grafico delle predizione"
      ]
    },
    {
      "cell_type": "code",
      "execution_count": null,
      "metadata": {
        "id": "5AM4yqIOZaDG"
      },
      "outputs": [],
      "source": [
        "for model in models:\n",
        "  models[model][\"Predict\"] = models[model][\"Model\"].predict(X_val)\n",
        "\n",
        "def final_graph(model_name):\n",
        "  fig, axes = plt.subplots(nrows=1, ncols=2, sharex=False, sharey=False, figsize=(20, 10))\n",
        "  \n",
        "  fig.suptitle(\"Lasso graph\", fontsize = 25)\n",
        "  \n",
        "  sns.histplot(y_val - models[model_name][\"Predict\"], ax = axes[0], kde = True, element = \"poly\")\n",
        "  axes[1].scatter(y_val, models[model_name][\"Predict\"])\n",
        "\n",
        "  axes[0].set_title(f\"{model_name} Histplot\")\n",
        "  axes[1].set_title(f\"{model_name} Scatter\")"
      ]
    },
    {
      "cell_type": "code",
      "execution_count": null,
      "metadata": {
        "colab": {
          "base_uri": "https://localhost:8080/",
          "height": 678
        },
        "id": "xNe1ZhFUn3Z5",
        "outputId": "fa1d70f8-161e-4b20-b460-08e76d21f847"
      },
      "outputs": [
        {
          "data": {
            "image/png": "[encoded data removed]",
            "text/plain": [
              "<Figure size 1440x720 with 2 Axes>"
            ]
          },
          "metadata": {
            "needs_background": "light",
            "tags": []
          },
          "output_type": "display_data"
        }
      ],
      "source": [
        "final_graph(\"Lasso\")"
      ]
    },
    {
      "cell_type": "code",
      "execution_count": null,
      "metadata": {
        "colab": {
          "base_uri": "https://localhost:8080/",
          "height": 678
        },
        "id": "93ESccSAn6ek",
        "outputId": "f6e5818b-da22-4ec7-890b-263ec486e6d1"
      },
      "outputs": [
        {
          "data": {
            "image/png": "[encoded data removed]",
            "text/plain": [
              "<Figure size 1440x720 with 2 Axes>"
            ]
          },
          "metadata": {
            "needs_background": "light",
            "tags": []
          },
          "output_type": "display_data"
        }
      ],
      "source": [
        "final_graph(\"Ridge\")"
      ]
    },
    {
      "cell_type": "code",
      "execution_count": null,
      "metadata": {
        "colab": {
          "base_uri": "https://localhost:8080/",
          "height": 678
        },
        "id": "8ZwYQjxgn60f",
        "outputId": "93751ff9-da65-499d-a47c-565e8ef04977"
      },
      "outputs": [
        {
          "data": {
            "image/png": "[encoded data removed]",
            "text/plain": [
              "<Figure size 1440x720 with 2 Axes>"
            ]
          },
          "metadata": {
            "needs_background": "light",
            "tags": []
          },
          "output_type": "display_data"
        }
      ],
      "source": [
        "final_graph(\"Elastic_Net\")"
      ]
    },
    {
      "cell_type": "code",
      "execution_count": null,
      "metadata": {
        "colab": {
          "base_uri": "https://localhost:8080/",
          "height": 678
        },
        "id": "aZd_j4BZn7G3",
        "outputId": "55ce188e-451d-4f3a-945d-5b0b86b99588"
      },
      "outputs": [
        {
          "data": {
            "image/png": "[encoded data removed]",
            "text/plain": [
              "<Figure size 1440x720 with 2 Axes>"
            ]
          },
          "metadata": {
            "needs_background": "light",
            "tags": []
          },
          "output_type": "display_data"
        }
      ],
      "source": [
        "final_graph(\"XGBoost\")"
      ]
    },
    {
      "cell_type": "markdown",
      "metadata": {
        "id": "GmCvE_aloSYg"
      },
      "source": [
        "# Parte 5 - Analisi conclusiva  \n",
        "Come fase conclusiva andiamo a stampare per ogni modello la predizione delle automobili presenti nel nostro set di Validation. Vediamo per ognuna il distaccamento dal valore reale, traendo le conclusioni sul modello migliore."
      ]
    },
    {
      "cell_type": "code",
      "execution_count": null,
      "metadata": {
        "colab": {
          "base_uri": "https://localhost:8080/",
          "height": 514
        },
        "id": "JfQXvXxRuurs",
        "outputId": "0bcc710e-4c8c-4d7f-b832-e02a7bc04344"
      },
      "outputs": [
        {
          "data": {
            "text/html": [
              "<div>\n",
              "<style scoped>\n",
              "    .dataframe tbody tr th:only-of-type {\n",
              "        vertical-align: middle;\n",
              "    }\n",
              "\n",
              "    .dataframe tbody tr th {\n",
              "        vertical-align: top;\n",
              "    }\n",
              "\n",
              "    .dataframe thead th {\n",
              "        text-align: right;\n",
              "    }\n",
              "</style>\n",
              "<table border=\"1\" class=\"dataframe\">\n",
              "  <thead>\n",
              "    <tr style=\"text-align: right;\">\n",
              "      <th></th>\n",
              "      <th>Selling Prices</th>\n",
              "      <th>XGBoost_Prediction</th>\n",
              "      <th>Lasso_Prediction</th>\n",
              "      <th>Ridge_Prediction</th>\n",
              "      <th>ElasticNet_Prediction</th>\n",
              "      <th>Car_Name</th>\n",
              "    </tr>\n",
              "  </thead>\n",
              "  <tbody>\n",
              "    <tr>\n",
              "      <th>5</th>\n",
              "      <td>9.25</td>\n",
              "      <td>9.249281</td>\n",
              "      <td>9.872710</td>\n",
              "      <td>9.836662</td>\n",
              "      <td>9.880587</td>\n",
              "      <td>vitara brezza</td>\n",
              "    </tr>\n",
              "    <tr>\n",
              "      <th>9</th>\n",
              "      <td>7.45</td>\n",
              "      <td>7.431100</td>\n",
              "      <td>6.942149</td>\n",
              "      <td>6.791941</td>\n",
              "      <td>7.469575</td>\n",
              "      <td>ciaz</td>\n",
              "    </tr>\n",
              "    <tr>\n",
              "      <th>59</th>\n",
              "      <td>19.99</td>\n",
              "      <td>19.992527</td>\n",
              "      <td>23.980674</td>\n",
              "      <td>21.228615</td>\n",
              "      <td>21.821440</td>\n",
              "      <td>fortuner</td>\n",
              "    </tr>\n",
              "    <tr>\n",
              "      <th>79</th>\n",
              "      <td>14.50</td>\n",
              "      <td>14.513296</td>\n",
              "      <td>14.680132</td>\n",
              "      <td>14.090274</td>\n",
              "      <td>16.163223</td>\n",
              "      <td>fortuner</td>\n",
              "    </tr>\n",
              "    <tr>\n",
              "      <th>95</th>\n",
              "      <td>5.85</td>\n",
              "      <td>5.852381</td>\n",
              "      <td>6.680513</td>\n",
              "      <td>7.242625</td>\n",
              "      <td>7.088878</td>\n",
              "      <td>corolla altis</td>\n",
              "    </tr>\n",
              "    <tr>\n",
              "      <th>99</th>\n",
              "      <td>9.65</td>\n",
              "      <td>9.648474</td>\n",
              "      <td>8.084605</td>\n",
              "      <td>9.409883</td>\n",
              "      <td>9.802041</td>\n",
              "      <td>fortuner</td>\n",
              "    </tr>\n",
              "    <tr>\n",
              "      <th>111</th>\n",
              "      <td>1.15</td>\n",
              "      <td>1.138304</td>\n",
              "      <td>1.236572</td>\n",
              "      <td>1.324835</td>\n",
              "      <td>1.302149</td>\n",
              "      <td>Royal Enfield Thunder 350</td>\n",
              "    </tr>\n",
              "    <tr>\n",
              "      <th>156</th>\n",
              "      <td>0.48</td>\n",
              "      <td>0.464438</td>\n",
              "      <td>0.387538</td>\n",
              "      <td>0.714636</td>\n",
              "      <td>1.033643</td>\n",
              "      <td>TVS Sport</td>\n",
              "    </tr>\n",
              "    <tr>\n",
              "      <th>166</th>\n",
              "      <td>0.45</td>\n",
              "      <td>0.460858</td>\n",
              "      <td>0.392039</td>\n",
              "      <td>0.654478</td>\n",
              "      <td>0.845466</td>\n",
              "      <td>Hero Passion Pro</td>\n",
              "    </tr>\n",
              "    <tr>\n",
              "      <th>175</th>\n",
              "      <td>0.38</td>\n",
              "      <td>0.375909</td>\n",
              "      <td>0.307899</td>\n",
              "      <td>0.014015</td>\n",
              "      <td>0.118334</td>\n",
              "      <td>Hero Honda CBZ extreme</td>\n",
              "    </tr>\n",
              "    <tr>\n",
              "      <th>186</th>\n",
              "      <td>0.25</td>\n",
              "      <td>0.240769</td>\n",
              "      <td>0.883431</td>\n",
              "      <td>0.237410</td>\n",
              "      <td>0.860238</td>\n",
              "      <td>TVS Wego</td>\n",
              "    </tr>\n",
              "    <tr>\n",
              "      <th>197</th>\n",
              "      <td>0.16</td>\n",
              "      <td>0.164642</td>\n",
              "      <td>0.184031</td>\n",
              "      <td>-0.019941</td>\n",
              "      <td>-0.234039</td>\n",
              "      <td>Honda CB twister</td>\n",
              "    </tr>\n",
              "    <tr>\n",
              "      <th>267</th>\n",
              "      <td>8.35</td>\n",
              "      <td>8.353922</td>\n",
              "      <td>8.020238</td>\n",
              "      <td>7.872209</td>\n",
              "      <td>8.559634</td>\n",
              "      <td>city</td>\n",
              "    </tr>\n",
              "    <tr>\n",
              "      <th>280</th>\n",
              "      <td>5.25</td>\n",
              "      <td>5.228798</td>\n",
              "      <td>4.496806</td>\n",
              "      <td>4.606818</td>\n",
              "      <td>4.875253</td>\n",
              "      <td>brio</td>\n",
              "    </tr>\n",
              "    <tr>\n",
              "      <th>283</th>\n",
              "      <td>8.99</td>\n",
              "      <td>8.994455</td>\n",
              "      <td>8.937322</td>\n",
              "      <td>8.938721</td>\n",
              "      <td>7.762694</td>\n",
              "      <td>city</td>\n",
              "    </tr>\n",
              "  </tbody>\n",
              "</table>\n",
              "</div>"
            ],
            "text/plain": [
              "     Selling Prices  ...                   Car_Name\n",
              "5              9.25  ...              vitara brezza\n",
              "9              7.45  ...                       ciaz\n",
              "59            19.99  ...                   fortuner\n",
              "79            14.50  ...                   fortuner\n",
              "95             5.85  ...              corolla altis\n",
              "99             9.65  ...                   fortuner\n",
              "111            1.15  ...  Royal Enfield Thunder 350\n",
              "156            0.48  ...                 TVS Sport \n",
              "166            0.45  ...           Hero Passion Pro\n",
              "175            0.38  ...     Hero Honda CBZ extreme\n",
              "186            0.25  ...                   TVS Wego\n",
              "197            0.16  ...           Honda CB twister\n",
              "267            8.35  ...                       city\n",
              "280            5.25  ...                       brio\n",
              "283            8.99  ...                       city\n",
              "\n",
              "[15 rows x 6 columns]"
            ]
          },
          "execution_count": 83,
          "metadata": {
            "tags": []
          },
          "output_type": "execute_result"
        }
      ],
      "source": [
        "data = {'Selling Prices':         y_val.head(15),\n",
        "        'XGBoost_Prediction':     models[\"XGBoost\"][\"Model\"].predict(X_val)[:15],\n",
        "        'Lasso_Prediction':       models[\"Lasso\"][\"Model\"].predict(X_val)[:15],\n",
        "        'Ridge_Prediction':       models[\"Ridge\"][\"Model\"].predict(X_val)[:15],\n",
        "        'ElasticNet_Prediction':  models[\"Elastic_Net\"][\"Model\"].predict(X_val)[:15],\n",
        "        'Car_Name':               car_names[y_val.head(15).index]\n",
        "}\n",
        "\n",
        "pd.DataFrame(data).sort_index()"
      ]
    },
    {
      "cell_type": "markdown",
      "metadata": {
        "id": "LbeOvOreQo5P"
      },
      "source": [
        "Verifichiamo dalla tabella come le previsioni effettuate non si discostano più di tanto dal valore reale, ponendo particolare attenzione a una previsione molto accurata con il modello **XGBoost**. Siamo particolarmente soddisfatti del risultato ottenuto, poichè non ci aspettavamo una tale soluzione, probabilmente data dalle dimensioni ridotte del Dataset utilizzato (300 istanze)"
      ]
    }
  ],
  "metadata": {
    "colab": {
      "collapsed_sections": [
        "jCloUxnUvlTy",
        "CDRatCVqxgvI",
        "qbGund8zx9FO",
        "WSWrRCwY7DnV",
        "f6wwteG486Qz",
        "jz9RukAD1XWp",
        "_5o5EUVQ3gw4",
        "ztAWwAW84d8T",
        "6P7MsylJCiAW",
        "AfxMhHt9IGIC",
        "sDUY3B7ZetBk",
        "Q9T2dMn9AZ9P",
        "Jmasi3ERpyAC",
        "KGjGaNsLp0_p",
        "qtC9WJuWJa8C",
        "5ZraQ0HwN_6W",
        "rOUchl3pNgZj",
        "nBLFhM1HNuX-",
        "bu2L14M8N-Cd",
        "vmSdB-g1UW0X",
        "uJXkYzGVpjg5",
        "5exm4ufgppIP",
        "GmCvE_aloSYg"
      ],
      "include_colab_link": true,
      "name": "Progetto_Programmazione_Data_Intensive.ipynb",
      "provenance": []
    },
    "kernelspec": {
      "display_name": "Python 3",
      "name": "python3"
    },
    "language_info": {
      "name": "python"
    }
  },
  "nbformat": 4,
  "nbformat_minor": 0
}
